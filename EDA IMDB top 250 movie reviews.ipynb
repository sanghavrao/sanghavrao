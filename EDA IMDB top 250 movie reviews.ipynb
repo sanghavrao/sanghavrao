{
 "cells": [
  {
   "cell_type": "markdown",
   "id": "4d701134",
   "metadata": {},
   "source": [
    "# Data Exploration or Exploratory data Analysis"
   ]
  },
  {
   "cell_type": "code",
   "execution_count": 1,
   "id": "606881a3",
   "metadata": {},
   "outputs": [],
   "source": [
    "import pandas as pd"
   ]
  },
  {
   "cell_type": "code",
   "execution_count": 2,
   "id": "b694b264",
   "metadata": {},
   "outputs": [],
   "source": [
    "ds=pd.read_csv(r'C:\\Users\\Kanneluri SanghavRao\\Downloads\\IMDB Top 250 Movies.csv')"
   ]
  },
  {
   "cell_type": "code",
   "execution_count": 3,
   "id": "212c583e",
   "metadata": {},
   "outputs": [
    {
     "data": {
      "text/html": [
       "<div>\n",
       "<style scoped>\n",
       "    .dataframe tbody tr th:only-of-type {\n",
       "        vertical-align: middle;\n",
       "    }\n",
       "\n",
       "    .dataframe tbody tr th {\n",
       "        vertical-align: top;\n",
       "    }\n",
       "\n",
       "    .dataframe thead th {\n",
       "        text-align: right;\n",
       "    }\n",
       "</style>\n",
       "<table border=\"1\" class=\"dataframe\">\n",
       "  <thead>\n",
       "    <tr style=\"text-align: right;\">\n",
       "      <th></th>\n",
       "      <th>rank</th>\n",
       "      <th>name</th>\n",
       "      <th>year</th>\n",
       "      <th>rating</th>\n",
       "      <th>genre</th>\n",
       "      <th>certificate</th>\n",
       "      <th>run_time</th>\n",
       "      <th>tagline</th>\n",
       "      <th>budget</th>\n",
       "      <th>box_office</th>\n",
       "      <th>casts</th>\n",
       "      <th>directors</th>\n",
       "      <th>writers</th>\n",
       "    </tr>\n",
       "  </thead>\n",
       "  <tbody>\n",
       "    <tr>\n",
       "      <th>0</th>\n",
       "      <td>1</td>\n",
       "      <td>The Shawshank Redemption</td>\n",
       "      <td>1994</td>\n",
       "      <td>9.3</td>\n",
       "      <td>Drama</td>\n",
       "      <td>R</td>\n",
       "      <td>2h 22m</td>\n",
       "      <td>Fear can hold you prisoner. Hope can set you f...</td>\n",
       "      <td>25000000</td>\n",
       "      <td>28884504</td>\n",
       "      <td>Tim Robbins,Morgan Freeman,Bob Gunton,William ...</td>\n",
       "      <td>Frank Darabont</td>\n",
       "      <td>Stephen King,Frank Darabont</td>\n",
       "    </tr>\n",
       "    <tr>\n",
       "      <th>1</th>\n",
       "      <td>2</td>\n",
       "      <td>The Godfather</td>\n",
       "      <td>1972</td>\n",
       "      <td>9.2</td>\n",
       "      <td>Crime,Drama</td>\n",
       "      <td>R</td>\n",
       "      <td>2h 55m</td>\n",
       "      <td>An offer you can't refuse.</td>\n",
       "      <td>6000000</td>\n",
       "      <td>250341816</td>\n",
       "      <td>Marlon Brando,Al Pacino,James Caan,Diane Keato...</td>\n",
       "      <td>Francis Ford Coppola</td>\n",
       "      <td>Mario Puzo,Francis Ford Coppola</td>\n",
       "    </tr>\n",
       "    <tr>\n",
       "      <th>2</th>\n",
       "      <td>3</td>\n",
       "      <td>The Dark Knight</td>\n",
       "      <td>2008</td>\n",
       "      <td>9.0</td>\n",
       "      <td>Action,Crime,Drama</td>\n",
       "      <td>PG-13</td>\n",
       "      <td>2h 32m</td>\n",
       "      <td>Why So Serious?</td>\n",
       "      <td>185000000</td>\n",
       "      <td>1006234167</td>\n",
       "      <td>Christian Bale,Heath Ledger,Aaron Eckhart,Mich...</td>\n",
       "      <td>Christopher Nolan</td>\n",
       "      <td>Jonathan Nolan,Christopher Nolan,David S. Goyer</td>\n",
       "    </tr>\n",
       "    <tr>\n",
       "      <th>3</th>\n",
       "      <td>4</td>\n",
       "      <td>The Godfather Part II</td>\n",
       "      <td>1974</td>\n",
       "      <td>9.0</td>\n",
       "      <td>Crime,Drama</td>\n",
       "      <td>R</td>\n",
       "      <td>3h 22m</td>\n",
       "      <td>All the power on earth can't change destiny.</td>\n",
       "      <td>13000000</td>\n",
       "      <td>47961919</td>\n",
       "      <td>Al Pacino,Robert De Niro,Robert Duvall,Diane K...</td>\n",
       "      <td>Francis Ford Coppola</td>\n",
       "      <td>Francis Ford Coppola,Mario Puzo</td>\n",
       "    </tr>\n",
       "    <tr>\n",
       "      <th>4</th>\n",
       "      <td>5</td>\n",
       "      <td>12 Angry Men</td>\n",
       "      <td>1957</td>\n",
       "      <td>9.0</td>\n",
       "      <td>Crime,Drama</td>\n",
       "      <td>Approved</td>\n",
       "      <td>1h 36m</td>\n",
       "      <td>Life Is In Their Hands -- Death Is On Their Mi...</td>\n",
       "      <td>350000</td>\n",
       "      <td>955</td>\n",
       "      <td>Henry Fonda,Lee J. Cobb,Martin Balsam,John Fie...</td>\n",
       "      <td>Sidney Lumet</td>\n",
       "      <td>Reginald Rose</td>\n",
       "    </tr>\n",
       "    <tr>\n",
       "      <th>...</th>\n",
       "      <td>...</td>\n",
       "      <td>...</td>\n",
       "      <td>...</td>\n",
       "      <td>...</td>\n",
       "      <td>...</td>\n",
       "      <td>...</td>\n",
       "      <td>...</td>\n",
       "      <td>...</td>\n",
       "      <td>...</td>\n",
       "      <td>...</td>\n",
       "      <td>...</td>\n",
       "      <td>...</td>\n",
       "      <td>...</td>\n",
       "    </tr>\n",
       "    <tr>\n",
       "      <th>245</th>\n",
       "      <td>246</td>\n",
       "      <td>The Help</td>\n",
       "      <td>2011</td>\n",
       "      <td>8.1</td>\n",
       "      <td>Drama</td>\n",
       "      <td>PG-13</td>\n",
       "      <td>2h 26m</td>\n",
       "      <td>Change begins with a whisper.</td>\n",
       "      <td>25000000</td>\n",
       "      <td>216639112</td>\n",
       "      <td>Viola Davis,Emma Stone,Octavia Spencer,Bryce D...</td>\n",
       "      <td>Tate Taylor</td>\n",
       "      <td>Tate Taylor,Kathryn Stockett</td>\n",
       "    </tr>\n",
       "    <tr>\n",
       "      <th>246</th>\n",
       "      <td>247</td>\n",
       "      <td>Dersu Uzala</td>\n",
       "      <td>1975</td>\n",
       "      <td>8.2</td>\n",
       "      <td>Adventure,Biography,Drama</td>\n",
       "      <td>G</td>\n",
       "      <td>2h 22m</td>\n",
       "      <td>There is man and beast at nature's mercy. Ther...</td>\n",
       "      <td>4000000</td>\n",
       "      <td>14480</td>\n",
       "      <td>Maksim Munzuk,Yuriy Solomin,Mikhail Bychkov,Vl...</td>\n",
       "      <td>Akira Kurosawa</td>\n",
       "      <td>Akira Kurosawa,Yuriy Nagibin,Vladimir Arsenev</td>\n",
       "    </tr>\n",
       "    <tr>\n",
       "      <th>247</th>\n",
       "      <td>248</td>\n",
       "      <td>Aladdin</td>\n",
       "      <td>1992</td>\n",
       "      <td>8.0</td>\n",
       "      <td>Animation,Adventure,Comedy</td>\n",
       "      <td>G</td>\n",
       "      <td>1h 30m</td>\n",
       "      <td>Wish granted! (DVD re-release)</td>\n",
       "      <td>Not Available</td>\n",
       "      <td>Not Available</td>\n",
       "      <td>Scott Weinger,Robin Williams,Linda Larkin,Jona...</td>\n",
       "      <td>Ron Clements,John Musker</td>\n",
       "      <td>Ron Clements,John Musker,Ted Elliott</td>\n",
       "    </tr>\n",
       "    <tr>\n",
       "      <th>248</th>\n",
       "      <td>249</td>\n",
       "      <td>Gandhi</td>\n",
       "      <td>1982</td>\n",
       "      <td>8.0</td>\n",
       "      <td>Biography,Drama,History</td>\n",
       "      <td>PG</td>\n",
       "      <td>3h 11m</td>\n",
       "      <td>His Triumph Changed The World Forever.</td>\n",
       "      <td>22000000</td>\n",
       "      <td>52767889</td>\n",
       "      <td>Ben Kingsley,John Gielgud,Rohini Hattangadi,Ro...</td>\n",
       "      <td>Richard Attenborough</td>\n",
       "      <td>John Briley</td>\n",
       "    </tr>\n",
       "    <tr>\n",
       "      <th>249</th>\n",
       "      <td>250</td>\n",
       "      <td>Dances with Wolves</td>\n",
       "      <td>1990</td>\n",
       "      <td>8.0</td>\n",
       "      <td>Adventure,Drama,Western</td>\n",
       "      <td>PG-13</td>\n",
       "      <td>3h 1m</td>\n",
       "      <td>Inside everyone is a frontier waiting to be di...</td>\n",
       "      <td>22000000</td>\n",
       "      <td>424208848</td>\n",
       "      <td>Kevin Costner,Mary McDonnell,Graham Greene,Rod...</td>\n",
       "      <td>Kevin Costner</td>\n",
       "      <td>Michael Blake</td>\n",
       "    </tr>\n",
       "  </tbody>\n",
       "</table>\n",
       "<p>250 rows × 13 columns</p>\n",
       "</div>"
      ],
      "text/plain": [
       "     rank                      name  year  rating                       genre  \\\n",
       "0       1  The Shawshank Redemption  1994     9.3                       Drama   \n",
       "1       2             The Godfather  1972     9.2                 Crime,Drama   \n",
       "2       3           The Dark Knight  2008     9.0          Action,Crime,Drama   \n",
       "3       4     The Godfather Part II  1974     9.0                 Crime,Drama   \n",
       "4       5              12 Angry Men  1957     9.0                 Crime,Drama   \n",
       "..    ...                       ...   ...     ...                         ...   \n",
       "245   246                  The Help  2011     8.1                       Drama   \n",
       "246   247               Dersu Uzala  1975     8.2   Adventure,Biography,Drama   \n",
       "247   248                   Aladdin  1992     8.0  Animation,Adventure,Comedy   \n",
       "248   249                    Gandhi  1982     8.0     Biography,Drama,History   \n",
       "249   250        Dances with Wolves  1990     8.0     Adventure,Drama,Western   \n",
       "\n",
       "    certificate run_time                                            tagline  \\\n",
       "0             R   2h 22m  Fear can hold you prisoner. Hope can set you f...   \n",
       "1             R   2h 55m                         An offer you can't refuse.   \n",
       "2         PG-13   2h 32m                                    Why So Serious?   \n",
       "3             R   3h 22m       All the power on earth can't change destiny.   \n",
       "4      Approved   1h 36m  Life Is In Their Hands -- Death Is On Their Mi...   \n",
       "..          ...      ...                                                ...   \n",
       "245       PG-13   2h 26m                      Change begins with a whisper.   \n",
       "246           G   2h 22m  There is man and beast at nature's mercy. Ther...   \n",
       "247           G   1h 30m                     Wish granted! (DVD re-release)   \n",
       "248          PG   3h 11m             His Triumph Changed The World Forever.   \n",
       "249       PG-13    3h 1m  Inside everyone is a frontier waiting to be di...   \n",
       "\n",
       "            budget     box_office  \\\n",
       "0         25000000       28884504   \n",
       "1          6000000      250341816   \n",
       "2        185000000     1006234167   \n",
       "3         13000000       47961919   \n",
       "4           350000            955   \n",
       "..             ...            ...   \n",
       "245       25000000      216639112   \n",
       "246        4000000          14480   \n",
       "247  Not Available  Not Available   \n",
       "248       22000000       52767889   \n",
       "249       22000000      424208848   \n",
       "\n",
       "                                                 casts  \\\n",
       "0    Tim Robbins,Morgan Freeman,Bob Gunton,William ...   \n",
       "1    Marlon Brando,Al Pacino,James Caan,Diane Keato...   \n",
       "2    Christian Bale,Heath Ledger,Aaron Eckhart,Mich...   \n",
       "3    Al Pacino,Robert De Niro,Robert Duvall,Diane K...   \n",
       "4    Henry Fonda,Lee J. Cobb,Martin Balsam,John Fie...   \n",
       "..                                                 ...   \n",
       "245  Viola Davis,Emma Stone,Octavia Spencer,Bryce D...   \n",
       "246  Maksim Munzuk,Yuriy Solomin,Mikhail Bychkov,Vl...   \n",
       "247  Scott Weinger,Robin Williams,Linda Larkin,Jona...   \n",
       "248  Ben Kingsley,John Gielgud,Rohini Hattangadi,Ro...   \n",
       "249  Kevin Costner,Mary McDonnell,Graham Greene,Rod...   \n",
       "\n",
       "                    directors                                          writers  \n",
       "0              Frank Darabont                      Stephen King,Frank Darabont  \n",
       "1        Francis Ford Coppola                  Mario Puzo,Francis Ford Coppola  \n",
       "2           Christopher Nolan  Jonathan Nolan,Christopher Nolan,David S. Goyer  \n",
       "3        Francis Ford Coppola                  Francis Ford Coppola,Mario Puzo  \n",
       "4                Sidney Lumet                                    Reginald Rose  \n",
       "..                        ...                                              ...  \n",
       "245               Tate Taylor                     Tate Taylor,Kathryn Stockett  \n",
       "246            Akira Kurosawa    Akira Kurosawa,Yuriy Nagibin,Vladimir Arsenev  \n",
       "247  Ron Clements,John Musker             Ron Clements,John Musker,Ted Elliott  \n",
       "248      Richard Attenborough                                      John Briley  \n",
       "249             Kevin Costner                                    Michael Blake  \n",
       "\n",
       "[250 rows x 13 columns]"
      ]
     },
     "execution_count": 3,
     "metadata": {},
     "output_type": "execute_result"
    }
   ],
   "source": [
    "ds"
   ]
  },
  {
   "cell_type": "code",
   "execution_count": 4,
   "id": "6f8795af",
   "metadata": {},
   "outputs": [
    {
     "data": {
      "text/html": [
       "<div>\n",
       "<style scoped>\n",
       "    .dataframe tbody tr th:only-of-type {\n",
       "        vertical-align: middle;\n",
       "    }\n",
       "\n",
       "    .dataframe tbody tr th {\n",
       "        vertical-align: top;\n",
       "    }\n",
       "\n",
       "    .dataframe thead th {\n",
       "        text-align: right;\n",
       "    }\n",
       "</style>\n",
       "<table border=\"1\" class=\"dataframe\">\n",
       "  <thead>\n",
       "    <tr style=\"text-align: right;\">\n",
       "      <th></th>\n",
       "      <th>rank</th>\n",
       "      <th>name</th>\n",
       "      <th>year</th>\n",
       "      <th>rating</th>\n",
       "      <th>genre</th>\n",
       "      <th>certificate</th>\n",
       "      <th>run_time</th>\n",
       "      <th>tagline</th>\n",
       "      <th>budget</th>\n",
       "      <th>box_office</th>\n",
       "      <th>casts</th>\n",
       "      <th>directors</th>\n",
       "      <th>writers</th>\n",
       "    </tr>\n",
       "  </thead>\n",
       "  <tbody>\n",
       "    <tr>\n",
       "      <th>0</th>\n",
       "      <td>1</td>\n",
       "      <td>The Shawshank Redemption</td>\n",
       "      <td>1994</td>\n",
       "      <td>9.3</td>\n",
       "      <td>Drama</td>\n",
       "      <td>R</td>\n",
       "      <td>2h 22m</td>\n",
       "      <td>Fear can hold you prisoner. Hope can set you f...</td>\n",
       "      <td>25000000</td>\n",
       "      <td>28884504</td>\n",
       "      <td>Tim Robbins,Morgan Freeman,Bob Gunton,William ...</td>\n",
       "      <td>Frank Darabont</td>\n",
       "      <td>Stephen King,Frank Darabont</td>\n",
       "    </tr>\n",
       "    <tr>\n",
       "      <th>1</th>\n",
       "      <td>2</td>\n",
       "      <td>The Godfather</td>\n",
       "      <td>1972</td>\n",
       "      <td>9.2</td>\n",
       "      <td>Crime,Drama</td>\n",
       "      <td>R</td>\n",
       "      <td>2h 55m</td>\n",
       "      <td>An offer you can't refuse.</td>\n",
       "      <td>6000000</td>\n",
       "      <td>250341816</td>\n",
       "      <td>Marlon Brando,Al Pacino,James Caan,Diane Keato...</td>\n",
       "      <td>Francis Ford Coppola</td>\n",
       "      <td>Mario Puzo,Francis Ford Coppola</td>\n",
       "    </tr>\n",
       "    <tr>\n",
       "      <th>2</th>\n",
       "      <td>3</td>\n",
       "      <td>The Dark Knight</td>\n",
       "      <td>2008</td>\n",
       "      <td>9.0</td>\n",
       "      <td>Action,Crime,Drama</td>\n",
       "      <td>PG-13</td>\n",
       "      <td>2h 32m</td>\n",
       "      <td>Why So Serious?</td>\n",
       "      <td>185000000</td>\n",
       "      <td>1006234167</td>\n",
       "      <td>Christian Bale,Heath Ledger,Aaron Eckhart,Mich...</td>\n",
       "      <td>Christopher Nolan</td>\n",
       "      <td>Jonathan Nolan,Christopher Nolan,David S. Goyer</td>\n",
       "    </tr>\n",
       "    <tr>\n",
       "      <th>3</th>\n",
       "      <td>4</td>\n",
       "      <td>The Godfather Part II</td>\n",
       "      <td>1974</td>\n",
       "      <td>9.0</td>\n",
       "      <td>Crime,Drama</td>\n",
       "      <td>R</td>\n",
       "      <td>3h 22m</td>\n",
       "      <td>All the power on earth can't change destiny.</td>\n",
       "      <td>13000000</td>\n",
       "      <td>47961919</td>\n",
       "      <td>Al Pacino,Robert De Niro,Robert Duvall,Diane K...</td>\n",
       "      <td>Francis Ford Coppola</td>\n",
       "      <td>Francis Ford Coppola,Mario Puzo</td>\n",
       "    </tr>\n",
       "    <tr>\n",
       "      <th>4</th>\n",
       "      <td>5</td>\n",
       "      <td>12 Angry Men</td>\n",
       "      <td>1957</td>\n",
       "      <td>9.0</td>\n",
       "      <td>Crime,Drama</td>\n",
       "      <td>Approved</td>\n",
       "      <td>1h 36m</td>\n",
       "      <td>Life Is In Their Hands -- Death Is On Their Mi...</td>\n",
       "      <td>350000</td>\n",
       "      <td>955</td>\n",
       "      <td>Henry Fonda,Lee J. Cobb,Martin Balsam,John Fie...</td>\n",
       "      <td>Sidney Lumet</td>\n",
       "      <td>Reginald Rose</td>\n",
       "    </tr>\n",
       "  </tbody>\n",
       "</table>\n",
       "</div>"
      ],
      "text/plain": [
       "   rank                      name  year  rating               genre  \\\n",
       "0     1  The Shawshank Redemption  1994     9.3               Drama   \n",
       "1     2             The Godfather  1972     9.2         Crime,Drama   \n",
       "2     3           The Dark Knight  2008     9.0  Action,Crime,Drama   \n",
       "3     4     The Godfather Part II  1974     9.0         Crime,Drama   \n",
       "4     5              12 Angry Men  1957     9.0         Crime,Drama   \n",
       "\n",
       "  certificate run_time                                            tagline  \\\n",
       "0           R   2h 22m  Fear can hold you prisoner. Hope can set you f...   \n",
       "1           R   2h 55m                         An offer you can't refuse.   \n",
       "2       PG-13   2h 32m                                    Why So Serious?   \n",
       "3           R   3h 22m       All the power on earth can't change destiny.   \n",
       "4    Approved   1h 36m  Life Is In Their Hands -- Death Is On Their Mi...   \n",
       "\n",
       "      budget  box_office                                              casts  \\\n",
       "0   25000000    28884504  Tim Robbins,Morgan Freeman,Bob Gunton,William ...   \n",
       "1    6000000   250341816  Marlon Brando,Al Pacino,James Caan,Diane Keato...   \n",
       "2  185000000  1006234167  Christian Bale,Heath Ledger,Aaron Eckhart,Mich...   \n",
       "3   13000000    47961919  Al Pacino,Robert De Niro,Robert Duvall,Diane K...   \n",
       "4     350000         955  Henry Fonda,Lee J. Cobb,Martin Balsam,John Fie...   \n",
       "\n",
       "              directors                                          writers  \n",
       "0        Frank Darabont                      Stephen King,Frank Darabont  \n",
       "1  Francis Ford Coppola                  Mario Puzo,Francis Ford Coppola  \n",
       "2     Christopher Nolan  Jonathan Nolan,Christopher Nolan,David S. Goyer  \n",
       "3  Francis Ford Coppola                  Francis Ford Coppola,Mario Puzo  \n",
       "4          Sidney Lumet                                    Reginald Rose  "
      ]
     },
     "execution_count": 4,
     "metadata": {},
     "output_type": "execute_result"
    }
   ],
   "source": [
    "ds.head()"
   ]
  },
  {
   "cell_type": "code",
   "execution_count": 5,
   "id": "acd4dbc5",
   "metadata": {},
   "outputs": [
    {
     "data": {
      "text/plain": [
       "(250, 13)"
      ]
     },
     "execution_count": 5,
     "metadata": {},
     "output_type": "execute_result"
    }
   ],
   "source": [
    "ds.shape\n"
   ]
  },
  {
   "cell_type": "code",
   "execution_count": 6,
   "id": "ed0055a2",
   "metadata": {},
   "outputs": [
    {
     "data": {
      "text/plain": [
       "3250"
      ]
     },
     "execution_count": 6,
     "metadata": {},
     "output_type": "execute_result"
    }
   ],
   "source": [
    "ds.size"
   ]
  },
  {
   "cell_type": "code",
   "execution_count": 7,
   "id": "40c1630b",
   "metadata": {},
   "outputs": [
    {
     "data": {
      "text/html": [
       "<div>\n",
       "<style scoped>\n",
       "    .dataframe tbody tr th:only-of-type {\n",
       "        vertical-align: middle;\n",
       "    }\n",
       "\n",
       "    .dataframe tbody tr th {\n",
       "        vertical-align: top;\n",
       "    }\n",
       "\n",
       "    .dataframe thead th {\n",
       "        text-align: right;\n",
       "    }\n",
       "</style>\n",
       "<table border=\"1\" class=\"dataframe\">\n",
       "  <thead>\n",
       "    <tr style=\"text-align: right;\">\n",
       "      <th></th>\n",
       "      <th>rank</th>\n",
       "      <th>name</th>\n",
       "      <th>year</th>\n",
       "      <th>rating</th>\n",
       "      <th>genre</th>\n",
       "      <th>certificate</th>\n",
       "      <th>run_time</th>\n",
       "      <th>tagline</th>\n",
       "      <th>budget</th>\n",
       "      <th>box_office</th>\n",
       "      <th>casts</th>\n",
       "      <th>directors</th>\n",
       "      <th>writers</th>\n",
       "    </tr>\n",
       "  </thead>\n",
       "  <tbody>\n",
       "    <tr>\n",
       "      <th>245</th>\n",
       "      <td>246</td>\n",
       "      <td>The Help</td>\n",
       "      <td>2011</td>\n",
       "      <td>8.1</td>\n",
       "      <td>Drama</td>\n",
       "      <td>PG-13</td>\n",
       "      <td>2h 26m</td>\n",
       "      <td>Change begins with a whisper.</td>\n",
       "      <td>25000000</td>\n",
       "      <td>216639112</td>\n",
       "      <td>Viola Davis,Emma Stone,Octavia Spencer,Bryce D...</td>\n",
       "      <td>Tate Taylor</td>\n",
       "      <td>Tate Taylor,Kathryn Stockett</td>\n",
       "    </tr>\n",
       "    <tr>\n",
       "      <th>246</th>\n",
       "      <td>247</td>\n",
       "      <td>Dersu Uzala</td>\n",
       "      <td>1975</td>\n",
       "      <td>8.2</td>\n",
       "      <td>Adventure,Biography,Drama</td>\n",
       "      <td>G</td>\n",
       "      <td>2h 22m</td>\n",
       "      <td>There is man and beast at nature's mercy. Ther...</td>\n",
       "      <td>4000000</td>\n",
       "      <td>14480</td>\n",
       "      <td>Maksim Munzuk,Yuriy Solomin,Mikhail Bychkov,Vl...</td>\n",
       "      <td>Akira Kurosawa</td>\n",
       "      <td>Akira Kurosawa,Yuriy Nagibin,Vladimir Arsenev</td>\n",
       "    </tr>\n",
       "    <tr>\n",
       "      <th>247</th>\n",
       "      <td>248</td>\n",
       "      <td>Aladdin</td>\n",
       "      <td>1992</td>\n",
       "      <td>8.0</td>\n",
       "      <td>Animation,Adventure,Comedy</td>\n",
       "      <td>G</td>\n",
       "      <td>1h 30m</td>\n",
       "      <td>Wish granted! (DVD re-release)</td>\n",
       "      <td>Not Available</td>\n",
       "      <td>Not Available</td>\n",
       "      <td>Scott Weinger,Robin Williams,Linda Larkin,Jona...</td>\n",
       "      <td>Ron Clements,John Musker</td>\n",
       "      <td>Ron Clements,John Musker,Ted Elliott</td>\n",
       "    </tr>\n",
       "    <tr>\n",
       "      <th>248</th>\n",
       "      <td>249</td>\n",
       "      <td>Gandhi</td>\n",
       "      <td>1982</td>\n",
       "      <td>8.0</td>\n",
       "      <td>Biography,Drama,History</td>\n",
       "      <td>PG</td>\n",
       "      <td>3h 11m</td>\n",
       "      <td>His Triumph Changed The World Forever.</td>\n",
       "      <td>22000000</td>\n",
       "      <td>52767889</td>\n",
       "      <td>Ben Kingsley,John Gielgud,Rohini Hattangadi,Ro...</td>\n",
       "      <td>Richard Attenborough</td>\n",
       "      <td>John Briley</td>\n",
       "    </tr>\n",
       "    <tr>\n",
       "      <th>249</th>\n",
       "      <td>250</td>\n",
       "      <td>Dances with Wolves</td>\n",
       "      <td>1990</td>\n",
       "      <td>8.0</td>\n",
       "      <td>Adventure,Drama,Western</td>\n",
       "      <td>PG-13</td>\n",
       "      <td>3h 1m</td>\n",
       "      <td>Inside everyone is a frontier waiting to be di...</td>\n",
       "      <td>22000000</td>\n",
       "      <td>424208848</td>\n",
       "      <td>Kevin Costner,Mary McDonnell,Graham Greene,Rod...</td>\n",
       "      <td>Kevin Costner</td>\n",
       "      <td>Michael Blake</td>\n",
       "    </tr>\n",
       "  </tbody>\n",
       "</table>\n",
       "</div>"
      ],
      "text/plain": [
       "     rank                name  year  rating                       genre  \\\n",
       "245   246            The Help  2011     8.1                       Drama   \n",
       "246   247         Dersu Uzala  1975     8.2   Adventure,Biography,Drama   \n",
       "247   248             Aladdin  1992     8.0  Animation,Adventure,Comedy   \n",
       "248   249              Gandhi  1982     8.0     Biography,Drama,History   \n",
       "249   250  Dances with Wolves  1990     8.0     Adventure,Drama,Western   \n",
       "\n",
       "    certificate run_time                                            tagline  \\\n",
       "245       PG-13   2h 26m                      Change begins with a whisper.   \n",
       "246           G   2h 22m  There is man and beast at nature's mercy. Ther...   \n",
       "247           G   1h 30m                     Wish granted! (DVD re-release)   \n",
       "248          PG   3h 11m             His Triumph Changed The World Forever.   \n",
       "249       PG-13    3h 1m  Inside everyone is a frontier waiting to be di...   \n",
       "\n",
       "            budget     box_office  \\\n",
       "245       25000000      216639112   \n",
       "246        4000000          14480   \n",
       "247  Not Available  Not Available   \n",
       "248       22000000       52767889   \n",
       "249       22000000      424208848   \n",
       "\n",
       "                                                 casts  \\\n",
       "245  Viola Davis,Emma Stone,Octavia Spencer,Bryce D...   \n",
       "246  Maksim Munzuk,Yuriy Solomin,Mikhail Bychkov,Vl...   \n",
       "247  Scott Weinger,Robin Williams,Linda Larkin,Jona...   \n",
       "248  Ben Kingsley,John Gielgud,Rohini Hattangadi,Ro...   \n",
       "249  Kevin Costner,Mary McDonnell,Graham Greene,Rod...   \n",
       "\n",
       "                    directors                                        writers  \n",
       "245               Tate Taylor                   Tate Taylor,Kathryn Stockett  \n",
       "246            Akira Kurosawa  Akira Kurosawa,Yuriy Nagibin,Vladimir Arsenev  \n",
       "247  Ron Clements,John Musker           Ron Clements,John Musker,Ted Elliott  \n",
       "248      Richard Attenborough                                    John Briley  \n",
       "249             Kevin Costner                                  Michael Blake  "
      ]
     },
     "execution_count": 7,
     "metadata": {},
     "output_type": "execute_result"
    }
   ],
   "source": [
    "ds.tail()"
   ]
  },
  {
   "cell_type": "code",
   "execution_count": 8,
   "id": "7c4f3ee2",
   "metadata": {},
   "outputs": [
    {
     "data": {
      "text/plain": [
       "rank           0\n",
       "name           0\n",
       "year           0\n",
       "rating         0\n",
       "genre          0\n",
       "certificate    0\n",
       "run_time       0\n",
       "tagline        0\n",
       "budget         0\n",
       "box_office     0\n",
       "casts          0\n",
       "directors      0\n",
       "writers        0\n",
       "dtype: int64"
      ]
     },
     "execution_count": 8,
     "metadata": {},
     "output_type": "execute_result"
    }
   ],
   "source": [
    "ds.isnull().sum()"
   ]
  },
  {
   "cell_type": "code",
   "execution_count": 9,
   "id": "29f3a515",
   "metadata": {},
   "outputs": [
    {
     "data": {
      "text/html": [
       "<div>\n",
       "<style scoped>\n",
       "    .dataframe tbody tr th:only-of-type {\n",
       "        vertical-align: middle;\n",
       "    }\n",
       "\n",
       "    .dataframe tbody tr th {\n",
       "        vertical-align: top;\n",
       "    }\n",
       "\n",
       "    .dataframe thead th {\n",
       "        text-align: right;\n",
       "    }\n",
       "</style>\n",
       "<table border=\"1\" class=\"dataframe\">\n",
       "  <thead>\n",
       "    <tr style=\"text-align: right;\">\n",
       "      <th></th>\n",
       "      <th>rank</th>\n",
       "      <th>name</th>\n",
       "      <th>year</th>\n",
       "      <th>rating</th>\n",
       "      <th>genre</th>\n",
       "      <th>certificate</th>\n",
       "      <th>run_time</th>\n",
       "      <th>tagline</th>\n",
       "      <th>budget</th>\n",
       "      <th>box_office</th>\n",
       "      <th>casts</th>\n",
       "      <th>directors</th>\n",
       "      <th>writers</th>\n",
       "    </tr>\n",
       "  </thead>\n",
       "  <tbody>\n",
       "    <tr>\n",
       "      <th>86</th>\n",
       "      <td>87</td>\n",
       "      <td>High and Low</td>\n",
       "      <td>1963</td>\n",
       "      <td>8.4</td>\n",
       "      <td>Crime,Drama,Mystery</td>\n",
       "      <td>Not Rated</td>\n",
       "      <td>2h 23m</td>\n",
       "      <td>142 Screenful Minutes of Thrills and Suspense!</td>\n",
       "      <td>Not Available</td>\n",
       "      <td>Not Available</td>\n",
       "      <td>Toshirô Mifune,Yutaka Sada,Tatsuya Nakadai,Kyô...</td>\n",
       "      <td>Akira Kurosawa</td>\n",
       "      <td>Hideo Oguni,Ryûzô Kikushima,Eijirô Hisaita</td>\n",
       "    </tr>\n",
       "  </tbody>\n",
       "</table>\n",
       "</div>"
      ],
      "text/plain": [
       "    rank          name  year  rating                genre certificate  \\\n",
       "86    87  High and Low  1963     8.4  Crime,Drama,Mystery   Not Rated   \n",
       "\n",
       "   run_time                                         tagline         budget  \\\n",
       "86   2h 23m  142 Screenful Minutes of Thrills and Suspense!  Not Available   \n",
       "\n",
       "       box_office                                              casts  \\\n",
       "86  Not Available  Toshirô Mifune,Yutaka Sada,Tatsuya Nakadai,Kyô...   \n",
       "\n",
       "         directors                                     writers  \n",
       "86  Akira Kurosawa  Hideo Oguni,Ryûzô Kikushima,Eijirô Hisaita  "
      ]
     },
     "execution_count": 9,
     "metadata": {},
     "output_type": "execute_result"
    }
   ],
   "source": [
    "ds.sample()"
   ]
  },
  {
   "cell_type": "code",
   "execution_count": 10,
   "id": "07228891",
   "metadata": {},
   "outputs": [
    {
     "data": {
      "text/plain": [
       "rank             int64\n",
       "name            object\n",
       "year             int64\n",
       "rating         float64\n",
       "genre           object\n",
       "certificate     object\n",
       "run_time        object\n",
       "tagline         object\n",
       "budget          object\n",
       "box_office      object\n",
       "casts           object\n",
       "directors       object\n",
       "writers         object\n",
       "dtype: object"
      ]
     },
     "execution_count": 10,
     "metadata": {},
     "output_type": "execute_result"
    }
   ],
   "source": [
    "ds.dtypes"
   ]
  },
  {
   "cell_type": "code",
   "execution_count": 11,
   "id": "75b23c91",
   "metadata": {},
   "outputs": [
    {
     "name": "stdout",
     "output_type": "stream",
     "text": [
      "<class 'pandas.core.frame.DataFrame'>\n",
      "RangeIndex: 250 entries, 0 to 249\n",
      "Data columns (total 13 columns):\n",
      " #   Column       Non-Null Count  Dtype  \n",
      "---  ------       --------------  -----  \n",
      " 0   rank         250 non-null    int64  \n",
      " 1   name         250 non-null    object \n",
      " 2   year         250 non-null    int64  \n",
      " 3   rating       250 non-null    float64\n",
      " 4   genre        250 non-null    object \n",
      " 5   certificate  250 non-null    object \n",
      " 6   run_time     250 non-null    object \n",
      " 7   tagline      250 non-null    object \n",
      " 8   budget       250 non-null    object \n",
      " 9   box_office   250 non-null    object \n",
      " 10  casts        250 non-null    object \n",
      " 11  directors    250 non-null    object \n",
      " 12  writers      250 non-null    object \n",
      "dtypes: float64(1), int64(2), object(10)\n",
      "memory usage: 25.5+ KB\n"
     ]
    }
   ],
   "source": [
    "ds.info()"
   ]
  },
  {
   "cell_type": "code",
   "execution_count": 12,
   "id": "13897527",
   "metadata": {},
   "outputs": [
    {
     "data": {
      "text/plain": [
       "Index(['rank', 'name', 'year', 'rating', 'genre', 'certificate', 'run_time',\n",
       "       'tagline', 'budget', 'box_office', 'casts', 'directors', 'writers'],\n",
       "      dtype='object')"
      ]
     },
     "execution_count": 12,
     "metadata": {},
     "output_type": "execute_result"
    }
   ],
   "source": [
    "ds.columns"
   ]
  },
  {
   "cell_type": "code",
   "execution_count": 13,
   "id": "6d65bf65",
   "metadata": {},
   "outputs": [
    {
     "data": {
      "text/plain": [
       "array(['25000000', '6000000', '185000000', '13000000', '350000',\n",
       "       '22000000', '94000000', '8000000', '93000000', '1200000',\n",
       "       '55000000', '63000000', '94000000', '160000000', '18000000',\n",
       "       '63000000', '25000000', '3000000', '33000000', '125000000',\n",
       "       '3180000', '19000000', '$3300000', '70000000', '165000000',\n",
       "       '20000000', '60000000', '11000000', '102000000', '19000000',\n",
       "       '19000000', '35000000', '806947', '11400000', 'RF\\xa0115000000',\n",
       "       '45000000', '103000000', '20000000', '90000000', '6000000',\n",
       "       '40000000', '3300000', '950000', '3700000', 'Not Available',\n",
       "       '9500000', '1500000', '5000000', '1000000', '5000000', '11000000',\n",
       "       '1500000', '31500000', '9000000', '100000000', '18000000',\n",
       "       '180000000', '2000000', '1752000', '935000', '19000000', '2000000',\n",
       "       '321000000', '3000000', '18500000', 'Not Available', '15000000',\n",
       "       '1800000', '250000000', '3000000', '70000000', '18000000',\n",
       "       '175000000', '30000000', '55000000', '72000000', 'EM\\xa032000000',\n",
       "       '356000000', '2400000000', '30000000', 'Not Available',\n",
       "       'Not Available', '550000000', '2540800', '4500000', '200000000',\n",
       "       'Not Available', 'Not Available', '32500000', '20000000',\n",
       "       '12000000', '1200000', 'Not Available', 'Not Available', '839727',\n",
       "       'Not Available', '15000000', '3101000', '2479000', 'Not Available',\n",
       "       '10000000', '3000000', '2200000', '927262', '30000000',\n",
       "       '170000000', '25000000', 'Not Available', '6800000', '2000000',\n",
       "       '60000000', '5500000', '175000000', '500000', 'EM\\xa06000000',\n",
       "       '1300000', '35000000', '28000000', '6000000', '48000000', '133000',\n",
       "       'Not Available', '95000000', '13500000', 'Not Available', '600000',\n",
       "       '150000000', '250000', '2883848', '6000000', '1400000',\n",
       "       '100000000', '23000000', '3000000', '52000000', '11500000',\n",
       "       '19000000', '60000000', '25000000', '14400000', '40000000',\n",
       "       '80000000', '58000000', '63000000', 'Not Available', '3000000',\n",
       "       '229575', '4000000', '25000000', '200000000', '30000000', '250000',\n",
       "       '15000000', '94000000', '5000000', '6000000', '18000000',\n",
       "       '54000000', '3977000', '960000', '175000000', '1400000',\n",
       "       'Not Available', '24000000', '15000000', '3000000', '1500000',\n",
       "       '46000000', '25000000', '7000000', '33000000', 'Not Available',\n",
       "       'Not Available', '30000000', 'Not Available', '28000000', '923000',\n",
       "       '2500000', '20000000', 'Not Available', '125000000', '910000',\n",
       "       '15000000', 'Not Available', '25000000', 'Not Available', '750000',\n",
       "       'Not Available', 'Not Available', '15000000', '11000000',\n",
       "       '40000000', 'Not Available', '2800000', 'Not Available',\n",
       "       'Not Available', '1900000', '150000000', '150000', '$8240000',\n",
       "       '165000000', '13000000', '115000000', '7000000', '16400000',\n",
       "       '15000000', 'Not Available', 'Not Available', '17500000',\n",
       "       '97600000', '960000', '6000000', '150000000', '20000000',\n",
       "       '6400000', '97000000', '8000000', '38000000', '3800000',\n",
       "       '15000000', 'Not Available', '2777000', 'Not Available',\n",
       "       '14600000', '2100000', '11000000', '92000000', 'Not Available',\n",
       "       'Not Available', '800000', '140000000', 'Not Available', '800000',\n",
       "       'Not Available', 'Not Available', '2000000', '1288000', '3200000',\n",
       "       'Not Available', 'Not Available', '8200000', '325000',\n",
       "       'Not Available', '4000000', '70000000', '25000000', '4000000',\n",
       "       'Not Available', '22000000', '22000000'], dtype=object)"
      ]
     },
     "execution_count": 13,
     "metadata": {},
     "output_type": "execute_result"
    }
   ],
   "source": [
    "ds['budget'].values"
   ]
  },
  {
   "cell_type": "code",
   "execution_count": 14,
   "id": "3be7f907",
   "metadata": {},
   "outputs": [
    {
     "data": {
      "text/plain": [
       "array(['28884504', '250341816', '1006234167', '47961919', '955',\n",
       "       '322161245', '1146457748', '213928762', '898204420', '25253887',\n",
       "       '678226465', '101209702', '947944270', '836848102', '538375067',\n",
       "       '467222728', '47036784', '109114817', '327333559', '346258',\n",
       "       '8574081', '272742922', '30680793', '482349603', '773867216',\n",
       "       '230098753', '286801374', '775398007', '520881154', '383336762',\n",
       "       '355822319', '120072577', '32052925', '262676096', '19569225',\n",
       "       '968511805', '503162313', '23875127', '291480452', '23341568',\n",
       "       '109676311', '49396747', '4626532', '516962', 'Not Available',\n",
       "       '426588510', '463618', '5435024', '37034579', '13019063',\n",
       "       '106285522', '50419', '104880868', '40047078', '426074373',\n",
       "       '389925971', '521311890', '77356942', '300073', '5252', '47335804',\n",
       "       '970263', '2052415039', '7693', '131060248', 'Not Available',\n",
       "       '356296601', '9523464', '1081169825', '15421226', '321457747',\n",
       "       '52066791', '814337054', '394436586', '1074458282', '213216216',\n",
       "       '11487676', '2799439100', '170005875', '5473337', 'Not Available',\n",
       "       'Not Available', '60262836', '2000288', '7390108', '1067316101',\n",
       "       'Not Available', 'Not Available', '475106177', '74036715',\n",
       "       '65889846', '2913644', 'Not Available', 'Not Available', '1645133',\n",
       "       '35566', '45720631', '142319', '7798146', '96302', '174122191',\n",
       "       '18778738', '26960374', '14651', '46358827', '1488732821',\n",
       "       '65884703', 'Not Available', '6788659', '599146', '187436818',\n",
       "       '156000000', '735099102', '22926076', '1349711', '28570902',\n",
       "       '126216940', '141603197', '83557872', '474171806', '436655',\n",
       "       '21897373', '384479940', '92181574', 'Not Available', '15000000',\n",
       "       '373672993', '41960', '195088', '24427162', '151052', '406878233',\n",
       "       '321752656', '12180', '116112375', '4164283', '83862032',\n",
       "       '264118201', '76182388', '159167799', '672806432', '294805697',\n",
       "       '316791257', '1109802321', '46808', '5014000', '1940906', '228178',\n",
       "       '171627434', '1921847111', '180906076', '81379', '19632715',\n",
       "       '941637960', '26023860', '29225935', '23402427', '134686457',\n",
       "       '402382193', '3753929', '858848019', '31207', 'Not Available',\n",
       "       '237536126', '162861289', '27200000', '16767475', '122126687',\n",
       "       '23308615', '60611975', '269958228', 'Not Available',\n",
       "       'Not Available', '216763646', 'Not Available', '41722424', '29328',\n",
       "       '5987386', '187733202', 'Not Available', '1342359942',\n",
       "       '910000 (estimated)', '74437720', 'Not Available', '173082189',\n",
       "       '60418', '750000 (estimated)', '1226507', 'Not Available',\n",
       "       '49074379', '199632', '180563636', '1098', '1166717',\n",
       "       'Not Available', 'Not Available', '144738', '415261382', '311212',\n",
       "       '1740429', '494879471', '35401758', '579707738', '476512065',\n",
       "       '235860116', '46969409', 'Not Available', 'Not Available',\n",
       "       '33882243', '225508210', '117250402', '138545632', '623726085',\n",
       "       '98690254', '78371200', '619179950', '52287414', '96983009',\n",
       "       '23690757', '56675895', 'Not Available', '25637669', '135342',\n",
       "       '71108591', '23661347', '441306145', '631607053', 'Not Available',\n",
       "       'Not Available', '962002', '654264015', 'Not Available',\n",
       "       '800000 (estimated)', 'Not Available', 'Not Available', '20908467',\n",
       "       '72275', '67', 'Not Available', '127244', '159428329', '11477',\n",
       "       'Not Available', '20745728', '23335817', '216639112', '14480',\n",
       "       'Not Available', '52767889', '424208848'], dtype=object)"
      ]
     },
     "execution_count": 14,
     "metadata": {},
     "output_type": "execute_result"
    }
   ],
   "source": [
    "ds['box_office'].values"
   ]
  },
  {
   "cell_type": "code",
   "execution_count": 15,
   "id": "337051fa",
   "metadata": {},
   "outputs": [
    {
     "data": {
      "text/plain": [
       "array([9.3, 9.2, 9. , 9. , 9. , 9. , 9. , 8.9, 8.8, 8.8, 8.8, 8.8, 8.8,\n",
       "       8.8, 8.7, 8.7, 8.7, 8.7, 8.6, 8.6, 8.6, 8.6, 8.6, 8.6, 8.6, 8.6,\n",
       "       8.6, 8.6, 8.6, 8.5, 8.6, 8.5, 8.5, 8.5, 8.5, 8.5, 8.5, 8.5, 8.5,\n",
       "       8.5, 8.5, 8.5, 8.5, 8.5, 8.6, 8.5, 8.5, 8.5, 8.5, 8.5, 8.5, 8.5,\n",
       "       8.5, 8.4, 8.4, 8.4, 8.4, 8.4, 8.4, 8.4, 8.4, 8.4, 8.4, 8.4, 8.4,\n",
       "       8.4, 8.4, 8.4, 8.4, 8.4, 8.3, 8.4, 8.4, 8.3, 8.4, 8.4, 8.4, 8.4,\n",
       "       8.4, 8.3, 8.3, 8.4, 8.4, 8.3, 8.3, 8.3, 8.4, 8.4, 8.3, 8.3, 8.3,\n",
       "       8.3, 8.4, 8.3, 8.3, 8.3, 8.3, 8.3, 8.3, 8.3, 8.3, 8.3, 8.3, 8.3,\n",
       "       8.3, 8.3, 8.3, 8.4, 8.3, 8.3, 8.3, 8.3, 8.3, 8.3, 8.3, 8.2, 8.2,\n",
       "       8.2, 8.2, 8.2, 8.3, 8.3, 8.2, 8.2, 8.3, 8.2, 8.2, 8.3, 8.2, 8.2,\n",
       "       8.2, 8.2, 8.2, 8.3, 8.2, 8.2, 8.2, 8.2, 8.2, 8.2, 8.2, 8.2, 8.2,\n",
       "       8.2, 8.2, 8.2, 8.2, 8.2, 8.2, 8.2, 8.2, 8.2, 8.2, 8.2, 8.2, 8.2,\n",
       "       8.2, 8.2, 8.2, 8.2, 8.2, 8.2, 8.2, 8.2, 8.1, 8.2, 8.1, 8.1, 8.2,\n",
       "       8.1, 8.1, 8.1, 8.1, 8.1, 8.2, 8.1, 8.1, 8.1, 8.1, 8.2, 8.1, 8.1,\n",
       "       8.1, 8.1, 8.1, 8.1, 8.1, 8.1, 8.1, 8.1, 8.1, 8.1, 8.2, 8.1, 8.2,\n",
       "       8.1, 8.1, 8.1, 8.1, 8.1, 8.1, 8.1, 8.1, 8.1, 8.1, 8.1, 8.2, 8.2,\n",
       "       8.1, 8.1, 8.1, 8.1, 8.1, 8.1, 8.1, 8.1, 8.1, 8.1, 8.1, 8.1, 8.1,\n",
       "       8.1, 8.3, 8.1, 8.1, 8.1, 8. , 8.2, 8.1, 8.1, 8.1, 8.1, 8.1, 8.8,\n",
       "       8.2, 8.1, 8.1, 8.1, 8.1, 8.1, 8.1, 8.1, 8.1, 8. , 8.1, 8.1, 8.2,\n",
       "       8. , 8. , 8. ])"
      ]
     },
     "execution_count": 15,
     "metadata": {},
     "output_type": "execute_result"
    }
   ],
   "source": [
    "ds['rating'].values"
   ]
  },
  {
   "cell_type": "code",
   "execution_count": 16,
   "id": "185d1907",
   "metadata": {},
   "outputs": [
    {
     "data": {
      "text/plain": [
       "rank           250\n",
       "name           250\n",
       "year            86\n",
       "rating          13\n",
       "genre          104\n",
       "certificate     15\n",
       "run_time       102\n",
       "tagline        250\n",
       "budget         128\n",
       "box_office     221\n",
       "casts          250\n",
       "directors      160\n",
       "writers        233\n",
       "dtype: int64"
      ]
     },
     "execution_count": 16,
     "metadata": {},
     "output_type": "execute_result"
    }
   ],
   "source": [
    "ds.nunique()"
   ]
  },
  {
   "cell_type": "code",
   "execution_count": 17,
   "id": "abe60b57",
   "metadata": {},
   "outputs": [
    {
     "data": {
      "text/plain": [
       "13"
      ]
     },
     "execution_count": 17,
     "metadata": {},
     "output_type": "execute_result"
    }
   ],
   "source": [
    "ds['rating'].nunique()"
   ]
  },
  {
   "cell_type": "code",
   "execution_count": 18,
   "id": "4a42086a",
   "metadata": {},
   "outputs": [
    {
     "data": {
      "text/plain": [
       "array([9.3, 9.2, 9. , 8.9, 8.8, 8.7, 8.6, 8.5, 8.4, 8.3, 8.2, 8.1, 8. ])"
      ]
     },
     "execution_count": 18,
     "metadata": {},
     "output_type": "execute_result"
    }
   ],
   "source": [
    "ds['rating'].unique()"
   ]
  },
  {
   "cell_type": "code",
   "execution_count": 19,
   "id": "234aabd3",
   "metadata": {},
   "outputs": [
    {
     "data": {
      "text/plain": [
       "array([9.3, 9.2, 9. , 9. , 9. , 9. , 9. , 8.9, 8.8, 8.8, 8.8, 8.8, 8.8,\n",
       "       8.8, 8.7, 8.7, 8.7, 8.7, 8.6, 8.6, 8.6, 8.6, 8.6, 8.6, 8.6, 8.6,\n",
       "       8.6, 8.6, 8.6, 8.5, 8.6, 8.5, 8.5, 8.5, 8.5, 8.5, 8.5, 8.5, 8.5,\n",
       "       8.5, 8.5, 8.5, 8.5, 8.5, 8.6, 8.5, 8.5, 8.5, 8.5, 8.5, 8.5, 8.5,\n",
       "       8.5, 8.4, 8.4, 8.4, 8.4, 8.4, 8.4, 8.4, 8.4, 8.4, 8.4, 8.4, 8.4,\n",
       "       8.4, 8.4, 8.4, 8.4, 8.4, 8.3, 8.4, 8.4, 8.3, 8.4, 8.4, 8.4, 8.4,\n",
       "       8.4, 8.3, 8.3, 8.4, 8.4, 8.3, 8.3, 8.3, 8.4, 8.4, 8.3, 8.3, 8.3,\n",
       "       8.3, 8.4, 8.3, 8.3, 8.3, 8.3, 8.3, 8.3, 8.3, 8.3, 8.3, 8.3, 8.3,\n",
       "       8.3, 8.3, 8.3, 8.4, 8.3, 8.3, 8.3, 8.3, 8.3, 8.3, 8.3, 8.2, 8.2,\n",
       "       8.2, 8.2, 8.2, 8.3, 8.3, 8.2, 8.2, 8.3, 8.2, 8.2, 8.3, 8.2, 8.2,\n",
       "       8.2, 8.2, 8.2, 8.3, 8.2, 8.2, 8.2, 8.2, 8.2, 8.2, 8.2, 8.2, 8.2,\n",
       "       8.2, 8.2, 8.2, 8.2, 8.2, 8.2, 8.2, 8.2, 8.2, 8.2, 8.2, 8.2, 8.2,\n",
       "       8.2, 8.2, 8.2, 8.2, 8.2, 8.2, 8.2, 8.2, 8.1, 8.2, 8.1, 8.1, 8.2,\n",
       "       8.1, 8.1, 8.1, 8.1, 8.1, 8.2, 8.1, 8.1, 8.1, 8.1, 8.2, 8.1, 8.1,\n",
       "       8.1, 8.1, 8.1, 8.1, 8.1, 8.1, 8.1, 8.1, 8.1, 8.1, 8.2, 8.1, 8.2,\n",
       "       8.1, 8.1, 8.1, 8.1, 8.1, 8.1, 8.1, 8.1, 8.1, 8.1, 8.1, 8.2, 8.2,\n",
       "       8.1, 8.1, 8.1, 8.1, 8.1, 8.1, 8.1, 8.1, 8.1, 8.1, 8.1, 8.1, 8.1,\n",
       "       8.1, 8.3, 8.1, 8.1, 8.1, 8. , 8.2, 8.1, 8.1, 8.1, 8.1, 8.1, 8.8,\n",
       "       8.2, 8.1, 8.1, 8.1, 8.1, 8.1, 8.1, 8.1, 8.1, 8. , 8.1, 8.1, 8.2,\n",
       "       8. , 8. , 8. ])"
      ]
     },
     "execution_count": 19,
     "metadata": {},
     "output_type": "execute_result"
    }
   ],
   "source": [
    "ds['rating'].values"
   ]
  },
  {
   "cell_type": "code",
   "execution_count": 20,
   "id": "c361b8a2",
   "metadata": {},
   "outputs": [
    {
     "data": {
      "text/plain": [
       "rating\n",
       "8.1    68\n",
       "8.2    55\n",
       "8.3    38\n",
       "8.4    30\n",
       "8.5    22\n",
       "8.6    13\n",
       "8.8     7\n",
       "9.0     5\n",
       "8.0     5\n",
       "8.7     4\n",
       "9.3     1\n",
       "9.2     1\n",
       "8.9     1\n",
       "Name: count, dtype: int64"
      ]
     },
     "execution_count": 20,
     "metadata": {},
     "output_type": "execute_result"
    }
   ],
   "source": [
    "ds['rating'].value_counts()"
   ]
  },
  {
   "cell_type": "code",
   "execution_count": 21,
   "id": "07fd3d6b",
   "metadata": {},
   "outputs": [
    {
     "data": {
      "text/plain": [
       "(250,)"
      ]
     },
     "execution_count": 21,
     "metadata": {},
     "output_type": "execute_result"
    }
   ],
   "source": [
    "ds['year'].shape\n"
   ]
  },
  {
   "cell_type": "code",
   "execution_count": 22,
   "id": "1c22f341",
   "metadata": {},
   "outputs": [
    {
     "data": {
      "text/plain": [
       "array([1994, 1972, 2008, 1974, 1957, 1993, 2003, 1994, 2001, 1966, 1994,\n",
       "       1999, 2002, 2010, 1980, 1999, 1990, 1975, 1995, 1954, 1946, 1991,\n",
       "       2002, 1998, 2014, 1997, 1999, 1977, 1991, 1985, 2001, 2002, 1960,\n",
       "       2019, 1994, 1994, 2000, 1998, 2006, 1995, 2006, 2014, 1942, 1988,\n",
       "       1962, 2011, 1936, 1968, 1954, 1988, 1979, 1931, 1979, 2000, 2012,\n",
       "       1981, 2008, 2006, 1950, 1957, 1980, 1940, 2018, 1957, 1986, 2018,\n",
       "       1999, 1964, 2012, 2003, 2009, 1984, 2017, 1995, 2019, 1995, 1981,\n",
       "       2019, 1997, 1984, 1997, 2016, 2009, 1952, 2000, 2010, 1963, 2018,\n",
       "       1983, 2004, 1968, 1992, 1985, 2012, 1941, 1931, 1962, 1959, 1958,\n",
       "       1952, 2001, 1960, 1971, 1944, 1987, 2022, 1983, 2020, 2010, 1962,\n",
       "       1995, 1973, 2009, 2011, 1927, 1976, 1997, 1988, 2000, 1989, 1948,\n",
       "       2007, 2019, 2004, 2016, 1965, 2005, 1921, 1959, 2020, 1950, 2013,\n",
       "       2018, 1961, 1995, 1985, 2006, 1998, 2007, 1992, 1999, 2010, 2001,\n",
       "       1993, 1961, 1948, 1975, 1963, 2007, 2021, 2003, 1950, 1982, 2003,\n",
       "       1980, 1974, 1980, 2005, 1939, 1998, 2015, 1954, 2009, 2004, 2017,\n",
       "       1957, 1996, 2013, 2011, 1996, 2008, 1988, 2002, 2004, 1997, 1982,\n",
       "       1925, 1995, 2013, 2019, 2011, 1954, 1959, 2014, 2014, 1957, 1926,\n",
       "       1949, 1993, 1978, 1975, 2016, 1953, 2003, 1924, 2014, 1939, 2015,\n",
       "       1957, 2009, 2010, 2015, 2001, 1975, 1989, 1998, 1953, 1928, 2004,\n",
       "       2019, 1976, 1986, 2007, 2015, 1984, 2017, 1986, 2013, 1976, 2007,\n",
       "       2004, 1939, 1955, 1993, 1946, 1973, 2004, 1942, 1995, 1966, 2003,\n",
       "       2009, 1940, 2021, 2005, 2000, 1940, 1967, 2016, 1959, 1965, 1934,\n",
       "       1966, 1979, 1999, 2011, 1975, 1992, 1982, 1990], dtype=int64)"
      ]
     },
     "execution_count": 22,
     "metadata": {},
     "output_type": "execute_result"
    }
   ],
   "source": [
    "ds['year'].values"
   ]
  },
  {
   "cell_type": "code",
   "execution_count": 23,
   "id": "a9c8c55d",
   "metadata": {},
   "outputs": [
    {
     "data": {
      "text/plain": [
       "86"
      ]
     },
     "execution_count": 23,
     "metadata": {},
     "output_type": "execute_result"
    }
   ],
   "source": [
    "ds['year'].nunique()"
   ]
  },
  {
   "cell_type": "code",
   "execution_count": 24,
   "id": "020de3c3",
   "metadata": {},
   "outputs": [
    {
     "data": {
      "text/plain": [
       "array([1994, 1972, 2008, 1974, 1957, 1993, 2003, 2001, 1966, 1999, 2002,\n",
       "       2010, 1980, 1990, 1975, 1995, 1954, 1946, 1991, 1998, 2014, 1997,\n",
       "       1977, 1985, 1960, 2019, 2000, 2006, 1942, 1988, 1962, 2011, 1936,\n",
       "       1968, 1979, 1931, 2012, 1981, 1950, 1940, 2018, 1986, 1964, 2009,\n",
       "       1984, 2017, 2016, 1952, 1963, 1983, 2004, 1992, 1941, 1959, 1958,\n",
       "       1971, 1944, 1987, 2022, 2020, 1973, 1927, 1976, 1989, 1948, 2007,\n",
       "       1965, 2005, 1921, 2013, 1961, 2021, 1982, 1939, 2015, 1996, 1925,\n",
       "       1926, 1949, 1978, 1953, 1924, 1928, 1955, 1967, 1934], dtype=int64)"
      ]
     },
     "execution_count": 24,
     "metadata": {},
     "output_type": "execute_result"
    }
   ],
   "source": [
    "ds['year'].unique()"
   ]
  },
  {
   "cell_type": "code",
   "execution_count": 25,
   "id": "ce0fb519",
   "metadata": {},
   "outputs": [
    {
     "data": {
      "text/plain": [
       "year\n",
       "1995    8\n",
       "2004    7\n",
       "2009    6\n",
       "1957    6\n",
       "2003    6\n",
       "       ..\n",
       "1941    1\n",
       "1958    1\n",
       "2022    1\n",
       "1987    1\n",
       "1934    1\n",
       "Name: count, Length: 86, dtype: int64"
      ]
     },
     "execution_count": 25,
     "metadata": {},
     "output_type": "execute_result"
    }
   ],
   "source": [
    "ds['year'].value_counts()"
   ]
  },
  {
   "cell_type": "code",
   "execution_count": 26,
   "id": "f6ce0a56",
   "metadata": {},
   "outputs": [
    {
     "data": {
      "text/plain": [
       "Index(['rank', 'name', 'year', 'rating', 'genre', 'certificate', 'run_time',\n",
       "       'tagline', 'budget', 'box_office', 'casts', 'directors', 'writers'],\n",
       "      dtype='object')"
      ]
     },
     "execution_count": 26,
     "metadata": {},
     "output_type": "execute_result"
    }
   ],
   "source": [
    "ds.columns"
   ]
  },
  {
   "cell_type": "code",
   "execution_count": 27,
   "id": "0969a3d3",
   "metadata": {},
   "outputs": [
    {
     "data": {
      "text/plain": [
       "250"
      ]
     },
     "execution_count": 27,
     "metadata": {},
     "output_type": "execute_result"
    }
   ],
   "source": [
    "ds['rank'].nunique()"
   ]
  },
  {
   "cell_type": "code",
   "execution_count": 28,
   "id": "739f3fa6",
   "metadata": {},
   "outputs": [
    {
     "data": {
      "text/plain": [
       "array([  1,   2,   3,   4,   5,   6,   7,   8,   9,  10,  11,  12,  13,\n",
       "        14,  15,  16,  17,  18,  19,  20,  21,  22,  23,  24,  25,  26,\n",
       "        27,  28,  29,  30,  31,  32,  33,  34,  35,  36,  37,  38,  39,\n",
       "        40,  41,  42,  43,  44,  45,  46,  47,  48,  49,  50,  51,  52,\n",
       "        53,  54,  55,  56,  57,  58,  59,  60,  61,  62,  63,  64,  65,\n",
       "        66,  67,  68,  69,  70,  71,  72,  73,  74,  75,  76,  77,  78,\n",
       "        79,  80,  81,  82,  83,  84,  85,  86,  87,  88,  89,  90,  91,\n",
       "        92,  93,  94,  95,  96,  97,  98,  99, 100, 101, 102, 103, 104,\n",
       "       105, 106, 107, 108, 109, 110, 111, 112, 113, 114, 115, 116, 117,\n",
       "       118, 119, 120, 121, 122, 123, 124, 125, 126, 127, 128, 129, 130,\n",
       "       131, 132, 133, 134, 135, 136, 137, 138, 139, 140, 141, 142, 143,\n",
       "       144, 145, 146, 147, 148, 149, 150, 151, 152, 153, 154, 155, 156,\n",
       "       157, 158, 159, 160, 161, 162, 163, 164, 165, 166, 167, 168, 169,\n",
       "       170, 171, 172, 173, 174, 175, 176, 177, 178, 179, 180, 181, 182,\n",
       "       183, 184, 185, 186, 187, 188, 189, 190, 191, 192, 193, 194, 195,\n",
       "       196, 197, 198, 199, 200, 201, 202, 203, 204, 205, 206, 207, 208,\n",
       "       209, 210, 211, 212, 213, 214, 215, 216, 217, 218, 219, 220, 221,\n",
       "       222, 223, 224, 225, 226, 227, 228, 229, 230, 231, 232, 233, 234,\n",
       "       235, 236, 237, 238, 239, 240, 241, 242, 243, 244, 245, 246, 247,\n",
       "       248, 249, 250], dtype=int64)"
      ]
     },
     "execution_count": 28,
     "metadata": {},
     "output_type": "execute_result"
    }
   ],
   "source": [
    "ds['rank'].unique()"
   ]
  },
  {
   "cell_type": "code",
   "execution_count": 29,
   "id": "5456e742",
   "metadata": {},
   "outputs": [
    {
     "data": {
      "text/plain": [
       "rank\n",
       "1      1\n",
       "172    1\n",
       "159    1\n",
       "160    1\n",
       "161    1\n",
       "      ..\n",
       "89     1\n",
       "90     1\n",
       "91     1\n",
       "92     1\n",
       "250    1\n",
       "Name: count, Length: 250, dtype: int64"
      ]
     },
     "execution_count": 29,
     "metadata": {},
     "output_type": "execute_result"
    }
   ],
   "source": [
    "ds['rank'].value_counts()"
   ]
  },
  {
   "cell_type": "code",
   "execution_count": 30,
   "id": "40eef32d",
   "metadata": {},
   "outputs": [
    {
     "data": {
      "text/plain": [
       "Index(['rank', 'name', 'year', 'rating', 'genre', 'certificate', 'run_time',\n",
       "       'tagline', 'budget', 'box_office', 'casts', 'directors', 'writers'],\n",
       "      dtype='object')"
      ]
     },
     "execution_count": 30,
     "metadata": {},
     "output_type": "execute_result"
    }
   ],
   "source": [
    "ds.columns"
   ]
  },
  {
   "cell_type": "code",
   "execution_count": 31,
   "id": "58a4e316",
   "metadata": {},
   "outputs": [
    {
     "data": {
      "text/plain": [
       "array([  1,   2,   3,   4,   5,   6,   7,   8,   9,  10,  11,  12,  13,\n",
       "        14,  15,  16,  17,  18,  19,  20,  21,  22,  23,  24,  25,  26,\n",
       "        27,  28,  29,  30,  31,  32,  33,  34,  35,  36,  37,  38,  39,\n",
       "        40,  41,  42,  43,  44,  45,  46,  47,  48,  49,  50,  51,  52,\n",
       "        53,  54,  55,  56,  57,  58,  59,  60,  61,  62,  63,  64,  65,\n",
       "        66,  67,  68,  69,  70,  71,  72,  73,  74,  75,  76,  77,  78,\n",
       "        79,  80,  81,  82,  83,  84,  85,  86,  87,  88,  89,  90,  91,\n",
       "        92,  93,  94,  95,  96,  97,  98,  99, 100, 101, 102, 103, 104,\n",
       "       105, 106, 107, 108, 109, 110, 111, 112, 113, 114, 115, 116, 117,\n",
       "       118, 119, 120, 121, 122, 123, 124, 125, 126, 127, 128, 129, 130,\n",
       "       131, 132, 133, 134, 135, 136, 137, 138, 139, 140, 141, 142, 143,\n",
       "       144, 145, 146, 147, 148, 149, 150, 151, 152, 153, 154, 155, 156,\n",
       "       157, 158, 159, 160, 161, 162, 163, 164, 165, 166, 167, 168, 169,\n",
       "       170, 171, 172, 173, 174, 175, 176, 177, 178, 179, 180, 181, 182,\n",
       "       183, 184, 185, 186, 187, 188, 189, 190, 191, 192, 193, 194, 195,\n",
       "       196, 197, 198, 199, 200, 201, 202, 203, 204, 205, 206, 207, 208,\n",
       "       209, 210, 211, 212, 213, 214, 215, 216, 217, 218, 219, 220, 221,\n",
       "       222, 223, 224, 225, 226, 227, 228, 229, 230, 231, 232, 233, 234,\n",
       "       235, 236, 237, 238, 239, 240, 241, 242, 243, 244, 245, 246, 247,\n",
       "       248, 249, 250], dtype=int64)"
      ]
     },
     "execution_count": 31,
     "metadata": {},
     "output_type": "execute_result"
    }
   ],
   "source": [
    "ds['rank'].unique()"
   ]
  },
  {
   "cell_type": "code",
   "execution_count": 32,
   "id": "8bf565d2",
   "metadata": {},
   "outputs": [
    {
     "data": {
      "text/plain": [
       "array(['The Shawshank Redemption', 'The Godfather', 'The Dark Knight',\n",
       "       'The Godfather Part II', '12 Angry Men', \"Schindler's List\",\n",
       "       'The Lord of the Rings: The Return of the King', 'Pulp Fiction',\n",
       "       'The Lord of the Rings: The Fellowship of the Ring',\n",
       "       'The Good, the Bad and the Ugly', 'Forrest Gump', 'Fight Club',\n",
       "       'The Lord of the Rings: The Two Towers', 'Inception',\n",
       "       'Star Wars: Episode V - The Empire Strikes Back', 'The Matrix',\n",
       "       'Goodfellas', \"One Flew Over the Cuckoo's Nest\", 'Se7en',\n",
       "       'Seven Samurai', \"It's a Wonderful Life\",\n",
       "       'The Silence of the Lambs', 'City of God', 'Saving Private Ryan',\n",
       "       'Interstellar', 'Life Is Beautiful', 'The Green Mile',\n",
       "       'Star Wars: Episode IV - A New Hope', 'Terminator 2: Judgment Day',\n",
       "       'Back to the Future', 'Spirited Away', 'The Pianist', 'Psycho',\n",
       "       'Parasite', 'Léon: The Professional', 'The Lion King', 'Gladiator',\n",
       "       'American History X', 'The Departed', 'The Usual Suspects',\n",
       "       'The Prestige', 'Whiplash', 'Casablanca', 'Grave of the Fireflies',\n",
       "       'Harakiri', 'The Intouchables', 'Modern Times',\n",
       "       'Once Upon a Time in the West', 'Rear Window', 'Cinema Paradiso',\n",
       "       'Alien', 'City Lights', 'Apocalypse Now', 'Memento',\n",
       "       'Django Unchained',\n",
       "       'Indiana Jones and the Raiders of the Lost Ark', 'WALL·E',\n",
       "       'The Lives of Others', 'Sunset Blvd.', 'Paths of Glory',\n",
       "       'The Shining', 'The Great Dictator', 'Avengers: Infinity War',\n",
       "       'Witness for the Prosecution', 'Aliens',\n",
       "       'Spider-Man: Into the Spider-Verse', 'American Beauty',\n",
       "       'Dr. Strangelove or: How I Learned to Stop Worrying and Love the Bomb',\n",
       "       'The Dark Knight Rises', 'Oldboy', 'Inglourious Basterds',\n",
       "       'Amadeus', 'Coco', 'Toy Story', 'Joker', 'Braveheart', 'The Boat',\n",
       "       'Avengers: Endgame', 'Princess Mononoke',\n",
       "       'Once Upon a Time in America', 'Good Will Hunting', 'Your Name.',\n",
       "       '3 Idiots', \"Singin' in the Rain\", 'Requiem for a Dream',\n",
       "       'Toy Story 3', 'High and Low', 'Capernaum',\n",
       "       'Star Wars: Episode VI - Return of the Jedi',\n",
       "       'Eternal Sunshine of the Spotless Mind', '2001: A Space Odyssey',\n",
       "       'Reservoir Dogs', 'Come and See', 'The Hunt', 'Citizen Kane', 'M',\n",
       "       'Lawrence of Arabia', 'North by Northwest', 'Vertigo', 'Ikiru',\n",
       "       'Amélie', 'The Apartment', 'A Clockwork Orange',\n",
       "       'Double Indemnity', 'Full Metal Jacket', 'Top Gun: Maverick',\n",
       "       'Scarface', 'Hamilton', 'Incendies', 'To Kill a Mockingbird',\n",
       "       'Heat', 'The Sting', 'Up', 'A Separation', 'Metropolis',\n",
       "       'Taxi Driver', 'L.A. Confidential', 'Die Hard', 'Snatch',\n",
       "       'Indiana Jones and the Last Crusade', 'Bicycle Thieves',\n",
       "       'Like Stars on Earth', '1917', 'Downfall', 'Dangal',\n",
       "       'For a Few Dollars More', 'Batman Begins', 'The Kid',\n",
       "       'Some Like It Hot', 'The Father', 'All About Eve',\n",
       "       'The Wolf of Wall Street', 'Green Book', 'Judgment at Nuremberg',\n",
       "       'Casino', 'Ran', \"Pan's Labyrinth\", 'The Truman Show',\n",
       "       'There Will Be Blood', 'Unforgiven', 'The Sixth Sense',\n",
       "       'Shutter Island', 'A Beautiful Mind', 'Jurassic Park', 'Yojimbo',\n",
       "       'The Treasure of the Sierra Madre',\n",
       "       'Monty Python and the Holy Grail', 'The Great Escape',\n",
       "       'No Country for Old Men', 'Spider-Man: No Way Home',\n",
       "       'Kill Bill: Vol. 1', 'Rashomon', 'The Thing', 'Finding Nemo',\n",
       "       'The Elephant Man', 'Chinatown', 'Raging Bull', 'V for Vendetta',\n",
       "       'Gone with the Wind', 'Lock, Stock and Two Smoking Barrels',\n",
       "       'Inside Out', 'Dial M for Murder', 'The Secret in Their Eyes',\n",
       "       \"Howl's Moving Castle\",\n",
       "       'Three Billboards Outside Ebbing, Missouri',\n",
       "       'The Bridge on the River Kwai', 'Trainspotting', 'Prisoners',\n",
       "       'Warrior', 'Fargo', 'Gran Torino', 'My Neighbor Totoro',\n",
       "       'Catch Me If You Can', 'Million Dollar Baby', 'Children of Heaven',\n",
       "       'Blade Runner', 'The Gold Rush', 'Before Sunrise',\n",
       "       '12 Years a Slave', 'Klaus',\n",
       "       'Harry Potter and the Deathly Hallows: Part 2',\n",
       "       'On the Waterfront', 'Ben-Hur', 'Gone Girl',\n",
       "       'The Grand Budapest Hotel', 'Wild Strawberries', 'The General',\n",
       "       'The Third Man', 'In the Name of the Father', 'The Deer Hunter',\n",
       "       'Barry Lyndon', 'Hacksaw Ridge', 'The Wages of Fear',\n",
       "       'Memories of Murder', 'Sherlock Jr.', 'Wild Tales',\n",
       "       'Mr. Smith Goes to Washington', 'Mad Max: Fury Road',\n",
       "       'The Seventh Seal', 'Mary and Max', 'How to Train Your Dragon',\n",
       "       'Room', 'Monsters, Inc.', 'Jaws', 'Dead Poets Society',\n",
       "       'The Big Lebowski', 'Tokyo Story', 'The Passion of Joan of Arc',\n",
       "       'Hotel Rwanda', 'Ford v Ferrari', 'Rocky', 'Platoon',\n",
       "       'Ratatouille', 'Spotlight', 'The Terminator', 'Logan',\n",
       "       'Stand by Me', 'Rush', 'Network', 'Into the Wild', 'Before Sunset',\n",
       "       'The Wizard of Oz', 'Pather Panchali', 'Groundhog Day',\n",
       "       'The Best Years of Our Lives', 'The Exorcist', 'The Incredibles',\n",
       "       'To Be or Not to Be', 'La haine', 'The Battle of Algiers',\n",
       "       'Pirates of the Caribbean: The Curse of the Black Pearl',\n",
       "       \"Hachi: A Dog's Tale\", 'The Grapes of Wrath', 'Jai Bhim',\n",
       "       'My Father and My Son', 'Amores Perros', 'Rebecca',\n",
       "       'Cool Hand Luke', 'The Handmaiden', 'The 400 Blows',\n",
       "       'The Sound of Music', 'It Happened One Night', 'Persona',\n",
       "       'Life of Brian', 'The Iron Giant', 'The Help', 'Dersu Uzala',\n",
       "       'Aladdin', 'Gandhi', 'Dances with Wolves'], dtype=object)"
      ]
     },
     "execution_count": 32,
     "metadata": {},
     "output_type": "execute_result"
    }
   ],
   "source": [
    "ds['name'].unique()"
   ]
  },
  {
   "cell_type": "code",
   "execution_count": 33,
   "id": "aefacf83",
   "metadata": {},
   "outputs": [
    {
     "data": {
      "text/html": [
       "<div>\n",
       "<style scoped>\n",
       "    .dataframe tbody tr th:only-of-type {\n",
       "        vertical-align: middle;\n",
       "    }\n",
       "\n",
       "    .dataframe tbody tr th {\n",
       "        vertical-align: top;\n",
       "    }\n",
       "\n",
       "    .dataframe thead th {\n",
       "        text-align: right;\n",
       "    }\n",
       "</style>\n",
       "<table border=\"1\" class=\"dataframe\">\n",
       "  <thead>\n",
       "    <tr style=\"text-align: right;\">\n",
       "      <th></th>\n",
       "      <th>rank</th>\n",
       "      <th>year</th>\n",
       "      <th>rating</th>\n",
       "    </tr>\n",
       "  </thead>\n",
       "  <tbody>\n",
       "    <tr>\n",
       "      <th>count</th>\n",
       "      <td>250.000000</td>\n",
       "      <td>250.000000</td>\n",
       "      <td>250.000000</td>\n",
       "    </tr>\n",
       "    <tr>\n",
       "      <th>mean</th>\n",
       "      <td>125.500000</td>\n",
       "      <td>1986.360000</td>\n",
       "      <td>8.307200</td>\n",
       "    </tr>\n",
       "    <tr>\n",
       "      <th>std</th>\n",
       "      <td>72.312977</td>\n",
       "      <td>25.125356</td>\n",
       "      <td>0.229081</td>\n",
       "    </tr>\n",
       "    <tr>\n",
       "      <th>min</th>\n",
       "      <td>1.000000</td>\n",
       "      <td>1921.000000</td>\n",
       "      <td>8.000000</td>\n",
       "    </tr>\n",
       "    <tr>\n",
       "      <th>25%</th>\n",
       "      <td>63.250000</td>\n",
       "      <td>1966.250000</td>\n",
       "      <td>8.100000</td>\n",
       "    </tr>\n",
       "    <tr>\n",
       "      <th>50%</th>\n",
       "      <td>125.500000</td>\n",
       "      <td>1994.000000</td>\n",
       "      <td>8.200000</td>\n",
       "    </tr>\n",
       "    <tr>\n",
       "      <th>75%</th>\n",
       "      <td>187.750000</td>\n",
       "      <td>2006.000000</td>\n",
       "      <td>8.400000</td>\n",
       "    </tr>\n",
       "    <tr>\n",
       "      <th>max</th>\n",
       "      <td>250.000000</td>\n",
       "      <td>2022.000000</td>\n",
       "      <td>9.300000</td>\n",
       "    </tr>\n",
       "  </tbody>\n",
       "</table>\n",
       "</div>"
      ],
      "text/plain": [
       "             rank         year      rating\n",
       "count  250.000000   250.000000  250.000000\n",
       "mean   125.500000  1986.360000    8.307200\n",
       "std     72.312977    25.125356    0.229081\n",
       "min      1.000000  1921.000000    8.000000\n",
       "25%     63.250000  1966.250000    8.100000\n",
       "50%    125.500000  1994.000000    8.200000\n",
       "75%    187.750000  2006.000000    8.400000\n",
       "max    250.000000  2022.000000    9.300000"
      ]
     },
     "execution_count": 33,
     "metadata": {},
     "output_type": "execute_result"
    }
   ],
   "source": [
    "ds.describe()"
   ]
  },
  {
   "cell_type": "code",
   "execution_count": 34,
   "id": "6141d759",
   "metadata": {},
   "outputs": [],
   "source": [
    "import seaborn as sns"
   ]
  },
  {
   "cell_type": "code",
   "execution_count": 35,
   "id": "8f7cddba",
   "metadata": {},
   "outputs": [
    {
     "data": {
      "text/plain": [
       "Index(['rank', 'name', 'year', 'rating', 'genre', 'certificate', 'run_time',\n",
       "       'tagline', 'budget', 'box_office', 'casts', 'directors', 'writers'],\n",
       "      dtype='object')"
      ]
     },
     "execution_count": 35,
     "metadata": {},
     "output_type": "execute_result"
    }
   ],
   "source": [
    "ds.columns"
   ]
  },
  {
   "cell_type": "code",
   "execution_count": 36,
   "id": "153b6160",
   "metadata": {},
   "outputs": [
    {
     "name": "stderr",
     "output_type": "stream",
     "text": [
      "C:\\Users\\Kanneluri SanghavRao\\anaconda3\\Lib\\site-packages\\seaborn\\axisgrid.py:118: UserWarning: The figure layout has changed to tight\n",
      "  self._figure.tight_layout(*args, **kwargs)\n"
     ]
    },
    {
     "data": {
      "text/plain": [
       "<seaborn.axisgrid.FacetGrid at 0x130e92c6d10>"
      ]
     },
     "execution_count": 36,
     "metadata": {},
     "output_type": "execute_result"
    },
    {
     "data": {
      "image/png": "[encoded data removed]",
      "text/plain": [
       "<Figure size 500x500 with 1 Axes>"
      ]
     },
     "metadata": {},
     "output_type": "display_data"
    }
   ],
   "source": [
    "sns.catplot(y='rating',kind='box',data=ds)  #boxplot    swarm, violin, strip, box"
   ]
  },
  {
   "cell_type": "code",
   "execution_count": 37,
   "id": "03ee4d4c",
   "metadata": {},
   "outputs": [
    {
     "data": {
      "text/plain": [
       "<Axes: xlabel='rating', ylabel='Count'>"
      ]
     },
     "execution_count": 37,
     "metadata": {},
     "output_type": "execute_result"
    },
    {
     "data": {
      "image/png": "[encoded data removed]",
      "text/plain": [
       "<Figure size 640x480 with 1 Axes>"
      ]
     },
     "metadata": {},
     "output_type": "display_data"
    }
   ],
   "source": [
    "#histogram-represent the data distribution by forming bins along the range of the data \n",
    "#          and then drawing bars to show the number of observations that fall in each bin\n",
    "#distribution plot- represents the overall distribution of continuous data variables\n",
    "sns.histplot(ds['rating'],bins=10)"
   ]
  },
  {
   "cell_type": "code",
   "execution_count": 38,
   "id": "216182b0",
   "metadata": {},
   "outputs": [
    {
     "name": "stderr",
     "output_type": "stream",
     "text": [
      "C:\\Users\\Kanneluri SanghavRao\\anaconda3\\Lib\\site-packages\\seaborn\\axisgrid.py:118: UserWarning: The figure layout has changed to tight\n",
      "  self._figure.tight_layout(*args, **kwargs)\n"
     ]
    },
    {
     "data": {
      "text/plain": [
       "<seaborn.axisgrid.FacetGrid at 0x130e9ad2ad0>"
      ]
     },
     "execution_count": 38,
     "metadata": {},
     "output_type": "execute_result"
    },
    {
     "data": {
      "image/png": "[encoded data removed]",
      "text/plain": [
       "<Figure size 500x500 with 1 Axes>"
      ]
     },
     "metadata": {},
     "output_type": "display_data"
    }
   ],
   "source": [
    "sns.displot(ds['rating'],bins=5)"
   ]
  },
  {
   "cell_type": "code",
   "execution_count": 39,
   "id": "6457188e",
   "metadata": {},
   "outputs": [
    {
     "name": "stderr",
     "output_type": "stream",
     "text": [
      "C:\\Users\\Kanneluri SanghavRao\\AppData\\Local\\Temp\\ipykernel_9200\\3275003137.py:1: UserWarning: \n",
      "\n",
      "`distplot` is a deprecated function and will be removed in seaborn v0.14.0.\n",
      "\n",
      "Please adapt your code to use either `displot` (a figure-level function with\n",
      "similar flexibility) or `histplot` (an axes-level function for histograms).\n",
      "\n",
      "For a guide to updating your code to use the new functions, please see\n",
      "https://gist.github.com/mwaskom/de44147ed2974457ad6372750bbe5751\n",
      "\n",
      "  sns.distplot(ds['rating'],bins=10)\n"
     ]
    },
    {
     "data": {
      "text/plain": [
       "<Axes: xlabel='rating', ylabel='Density'>"
      ]
     },
     "execution_count": 39,
     "metadata": {},
     "output_type": "execute_result"
    },
    {
     "data": {
      "image/png": "[encoded data removed]",
      "text/plain": [
       "<Figure size 640x480 with 1 Axes>"
      ]
     },
     "metadata": {},
     "output_type": "display_data"
    }
   ],
   "source": [
    "sns.distplot(ds['rating'],bins=10)"
   ]
  },
  {
   "cell_type": "code",
   "execution_count": 40,
   "id": "3a580752",
   "metadata": {},
   "outputs": [
    {
     "data": {
      "text/plain": [
       "Index(['rank', 'name', 'year', 'rating', 'genre', 'certificate', 'run_time',\n",
       "       'tagline', 'budget', 'box_office', 'casts', 'directors', 'writers'],\n",
       "      dtype='object')"
      ]
     },
     "execution_count": 40,
     "metadata": {},
     "output_type": "execute_result"
    }
   ],
   "source": [
    "ds.columns"
   ]
  },
  {
   "cell_type": "code",
   "execution_count": 41,
   "id": "c6b576ab",
   "metadata": {},
   "outputs": [
    {
     "name": "stderr",
     "output_type": "stream",
     "text": [
      "C:\\Users\\Kanneluri SanghavRao\\anaconda3\\Lib\\site-packages\\seaborn\\axisgrid.py:118: UserWarning: The figure layout has changed to tight\n",
      "  self._figure.tight_layout(*args, **kwargs)\n"
     ]
    },
    {
     "data": {
      "text/plain": [
       "<seaborn.axisgrid.FacetGrid at 0x130e503a510>"
      ]
     },
     "execution_count": 41,
     "metadata": {},
     "output_type": "execute_result"
    },
    {
     "data": {
      "image/png": "[encoded data removed]",
      "text/plain": [
       "<Figure size 581x500 with 1 Axes>"
      ]
     },
     "metadata": {},
     "output_type": "display_data"
    }
   ],
   "source": [
    "# scatter plot\n",
    "#relational plot-allows us to visualise how variables within a dataset relate to each other\n",
    "sns.relplot(x='rank',y='year',hue='rating',data=ds,palette='rocket')"
   ]
  },
  {
   "cell_type": "code",
   "execution_count": 42,
   "id": "001ff49c",
   "metadata": {},
   "outputs": [
    {
     "name": "stderr",
     "output_type": "stream",
     "text": [
      "C:\\Users\\Kanneluri SanghavRao\\anaconda3\\Lib\\site-packages\\seaborn\\axisgrid.py:118: UserWarning: The figure layout has changed to tight\n",
      "  self._figure.tight_layout(*args, **kwargs)\n"
     ]
    },
    {
     "data": {
      "text/plain": [
       "<seaborn.axisgrid.PairGrid at 0x130e9b57290>"
      ]
     },
     "execution_count": 42,
     "metadata": {},
     "output_type": "execute_result"
    },
    {
     "data": {
      "image/png": "[encoded data removed]",
      "text/plain": [
       "<Figure size 750x750 with 12 Axes>"
      ]
     },
     "metadata": {},
     "output_type": "display_data"
    }
   ],
   "source": [
    "# pairplot-allows us to plot pairwise relationships between variables within a dataset\n",
    "sns.pairplot(ds)"
   ]
  },
  {
   "cell_type": "code",
   "execution_count": null,
   "id": "234a8e6d",
   "metadata": {},
   "outputs": [],
   "source": []
  }
 ],
 "metadata": {
  "kernelspec": {
   "display_name": "Python 3 (ipykernel)",
   "language": "python",
   "name": "python3"
  },
  "language_info": {
   "codemirror_mode": {
    "name": "ipython",
    "version": 3
   },
   "file_extension": ".py",
   "mimetype": "text/x-python",
   "name": "python",
   "nbconvert_exporter": "python",
   "pygments_lexer": "ipython3",
   "version": "3.11.5"
  }
 },
 "nbformat": 4,
 "nbformat_minor": 5
}
