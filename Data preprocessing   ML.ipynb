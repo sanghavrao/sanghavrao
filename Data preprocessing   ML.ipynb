{
 "cells": [
  {
   "cell_type": "markdown",
   "id": "c5858bdf",
   "metadata": {},
   "source": [
    "# Import Libraries"
   ]
  },
  {
   "cell_type": "code",
   "execution_count": 1,
   "id": "901c12ad",
   "metadata": {},
   "outputs": [],
   "source": [
    "import pandas as pd\n",
    "import numpy as np"
   ]
  },
  {
   "cell_type": "markdown",
   "id": "ec982c82",
   "metadata": {},
   "source": [
    "# Import Datafile/ CSV file"
   ]
  },
  {
   "cell_type": "code",
   "execution_count": 2,
   "id": "ec9f17e1",
   "metadata": {},
   "outputs": [],
   "source": [
    "ds=pd.read_csv(r'C:\\Users\\Kanneluri SanghavRao\\Downloads\\bank_churn_data (1).csv')"
   ]
  },
  {
   "cell_type": "code",
   "execution_count": 3,
   "id": "c1d46ace",
   "metadata": {},
   "outputs": [
    {
     "data": {
      "text/html": [
       "<div>\n",
       "<style scoped>\n",
       "    .dataframe tbody tr th:only-of-type {\n",
       "        vertical-align: middle;\n",
       "    }\n",
       "\n",
       "    .dataframe tbody tr th {\n",
       "        vertical-align: top;\n",
       "    }\n",
       "\n",
       "    .dataframe thead th {\n",
       "        text-align: right;\n",
       "    }\n",
       "</style>\n",
       "<table border=\"1\" class=\"dataframe\">\n",
       "  <thead>\n",
       "    <tr style=\"text-align: right;\">\n",
       "      <th></th>\n",
       "      <th>RowNumber</th>\n",
       "      <th>CustomerId</th>\n",
       "      <th>Surname</th>\n",
       "      <th>CreditScore</th>\n",
       "      <th>Geography</th>\n",
       "      <th>Gender</th>\n",
       "      <th>Age</th>\n",
       "      <th>Tenure</th>\n",
       "      <th>Balance</th>\n",
       "      <th>NumOfProducts</th>\n",
       "      <th>HasCrCard</th>\n",
       "      <th>IsActiveMember</th>\n",
       "      <th>EstimatedSalary</th>\n",
       "      <th>Exited</th>\n",
       "    </tr>\n",
       "  </thead>\n",
       "  <tbody>\n",
       "    <tr>\n",
       "      <th>0</th>\n",
       "      <td>1</td>\n",
       "      <td>15634602.0</td>\n",
       "      <td>Hargrave</td>\n",
       "      <td>619</td>\n",
       "      <td>France</td>\n",
       "      <td>Female</td>\n",
       "      <td>42</td>\n",
       "      <td>2.0</td>\n",
       "      <td>0.00</td>\n",
       "      <td>1.0</td>\n",
       "      <td>1</td>\n",
       "      <td>1</td>\n",
       "      <td>101348.88</td>\n",
       "      <td>1.0</td>\n",
       "    </tr>\n",
       "    <tr>\n",
       "      <th>1</th>\n",
       "      <td>2</td>\n",
       "      <td>15647311.0</td>\n",
       "      <td>Hill</td>\n",
       "      <td>608</td>\n",
       "      <td>Spain</td>\n",
       "      <td>Female</td>\n",
       "      <td>41</td>\n",
       "      <td>1.0</td>\n",
       "      <td>83807.86</td>\n",
       "      <td>1.0</td>\n",
       "      <td>0</td>\n",
       "      <td>1</td>\n",
       "      <td>112542.58</td>\n",
       "      <td>0.0</td>\n",
       "    </tr>\n",
       "    <tr>\n",
       "      <th>2</th>\n",
       "      <td>3</td>\n",
       "      <td>15619304.0</td>\n",
       "      <td>Onio</td>\n",
       "      <td>502</td>\n",
       "      <td>France</td>\n",
       "      <td>Female</td>\n",
       "      <td>42</td>\n",
       "      <td>8.0</td>\n",
       "      <td>159660.80</td>\n",
       "      <td>3.0</td>\n",
       "      <td>1</td>\n",
       "      <td>0</td>\n",
       "      <td>113931.57</td>\n",
       "      <td>1.0</td>\n",
       "    </tr>\n",
       "    <tr>\n",
       "      <th>3</th>\n",
       "      <td>4</td>\n",
       "      <td>15701354.0</td>\n",
       "      <td>Boni</td>\n",
       "      <td>699</td>\n",
       "      <td>France</td>\n",
       "      <td>Female</td>\n",
       "      <td>39</td>\n",
       "      <td>1.0</td>\n",
       "      <td>0.00</td>\n",
       "      <td>2.0</td>\n",
       "      <td>0</td>\n",
       "      <td>0</td>\n",
       "      <td>93826.63</td>\n",
       "      <td>0.0</td>\n",
       "    </tr>\n",
       "    <tr>\n",
       "      <th>4</th>\n",
       "      <td>5</td>\n",
       "      <td>15737888.0</td>\n",
       "      <td>Mitchell</td>\n",
       "      <td>850</td>\n",
       "      <td>Spain</td>\n",
       "      <td>Female</td>\n",
       "      <td>43</td>\n",
       "      <td>2.0</td>\n",
       "      <td>125510.82</td>\n",
       "      <td>1.0</td>\n",
       "      <td>1</td>\n",
       "      <td>1</td>\n",
       "      <td>79084.10</td>\n",
       "      <td>0.0</td>\n",
       "    </tr>\n",
       "  </tbody>\n",
       "</table>\n",
       "</div>"
      ],
      "text/plain": [
       "   RowNumber  CustomerId   Surname  CreditScore Geography  Gender  Age  \\\n",
       "0          1  15634602.0  Hargrave          619    France  Female   42   \n",
       "1          2  15647311.0      Hill          608     Spain  Female   41   \n",
       "2          3  15619304.0      Onio          502    France  Female   42   \n",
       "3          4  15701354.0      Boni          699    France  Female   39   \n",
       "4          5  15737888.0  Mitchell          850     Spain  Female   43   \n",
       "\n",
       "   Tenure    Balance  NumOfProducts  HasCrCard  IsActiveMember  \\\n",
       "0     2.0       0.00            1.0          1               1   \n",
       "1     1.0   83807.86            1.0          0               1   \n",
       "2     8.0  159660.80            3.0          1               0   \n",
       "3     1.0       0.00            2.0          0               0   \n",
       "4     2.0  125510.82            1.0          1               1   \n",
       "\n",
       "   EstimatedSalary  Exited  \n",
       "0        101348.88     1.0  \n",
       "1        112542.58     0.0  \n",
       "2        113931.57     1.0  \n",
       "3         93826.63     0.0  \n",
       "4         79084.10     0.0  "
      ]
     },
     "execution_count": 3,
     "metadata": {},
     "output_type": "execute_result"
    }
   ],
   "source": [
    "ds.head()"
   ]
  },
  {
   "cell_type": "code",
   "execution_count": 4,
   "id": "78d7f5e9",
   "metadata": {},
   "outputs": [
    {
     "data": {
      "text/plain": [
       "(10000, 14)"
      ]
     },
     "execution_count": 4,
     "metadata": {},
     "output_type": "execute_result"
    }
   ],
   "source": [
    "ds.shape"
   ]
  },
  {
   "cell_type": "code",
   "execution_count": 5,
   "id": "58030461",
   "metadata": {},
   "outputs": [
    {
     "data": {
      "text/plain": [
       "RowNumber            int64\n",
       "CustomerId         float64\n",
       "Surname             object\n",
       "CreditScore          int64\n",
       "Geography           object\n",
       "Gender              object\n",
       "Age                  int64\n",
       "Tenure             float64\n",
       "Balance            float64\n",
       "NumOfProducts      float64\n",
       "HasCrCard            int64\n",
       "IsActiveMember       int64\n",
       "EstimatedSalary    float64\n",
       "Exited             float64\n",
       "dtype: object"
      ]
     },
     "execution_count": 5,
     "metadata": {},
     "output_type": "execute_result"
    }
   ],
   "source": [
    "ds.dtypes"
   ]
  },
  {
   "cell_type": "code",
   "execution_count": 6,
   "id": "f7959b3f",
   "metadata": {},
   "outputs": [
    {
     "name": "stdout",
     "output_type": "stream",
     "text": [
      "<class 'pandas.core.frame.DataFrame'>\n",
      "RangeIndex: 10000 entries, 0 to 9999\n",
      "Data columns (total 14 columns):\n",
      " #   Column           Non-Null Count  Dtype  \n",
      "---  ------           --------------  -----  \n",
      " 0   RowNumber        10000 non-null  int64  \n",
      " 1   CustomerId       9999 non-null   float64\n",
      " 2   Surname          10000 non-null  object \n",
      " 3   CreditScore      10000 non-null  int64  \n",
      " 4   Geography        9999 non-null   object \n",
      " 5   Gender           9998 non-null   object \n",
      " 6   Age              10000 non-null  int64  \n",
      " 7   Tenure           9999 non-null   float64\n",
      " 8   Balance          10000 non-null  float64\n",
      " 9   NumOfProducts    9998 non-null   float64\n",
      " 10  HasCrCard        10000 non-null  int64  \n",
      " 11  IsActiveMember   10000 non-null  int64  \n",
      " 12  EstimatedSalary  9999 non-null   float64\n",
      " 13  Exited           9999 non-null   float64\n",
      "dtypes: float64(6), int64(5), object(3)\n",
      "memory usage: 1.1+ MB\n"
     ]
    }
   ],
   "source": [
    "ds.info()"
   ]
  },
  {
   "cell_type": "code",
   "execution_count": 7,
   "id": "d87f484f",
   "metadata": {},
   "outputs": [
    {
     "data": {
      "text/plain": [
       "RowNumber          0\n",
       "CustomerId         1\n",
       "Surname            0\n",
       "CreditScore        0\n",
       "Geography          1\n",
       "Gender             2\n",
       "Age                0\n",
       "Tenure             1\n",
       "Balance            0\n",
       "NumOfProducts      2\n",
       "HasCrCard          0\n",
       "IsActiveMember     0\n",
       "EstimatedSalary    1\n",
       "Exited             1\n",
       "dtype: int64"
      ]
     },
     "execution_count": 7,
     "metadata": {},
     "output_type": "execute_result"
    }
   ],
   "source": [
    "ds.isnull().sum()"
   ]
  },
  {
   "cell_type": "code",
   "execution_count": 8,
   "id": "2adb364a",
   "metadata": {},
   "outputs": [
    {
     "data": {
      "text/plain": [
       "Index(['RowNumber', 'CustomerId', 'Surname', 'CreditScore', 'Geography',\n",
       "       'Gender', 'Age', 'Tenure', 'Balance', 'NumOfProducts', 'HasCrCard',\n",
       "       'IsActiveMember', 'EstimatedSalary', 'Exited'],\n",
       "      dtype='object')"
      ]
     },
     "execution_count": 8,
     "metadata": {},
     "output_type": "execute_result"
    }
   ],
   "source": [
    "ds.columns"
   ]
  },
  {
   "cell_type": "markdown",
   "id": "e96692d8",
   "metadata": {},
   "source": [
    "# Divide data into Identify Independent and Dependent "
   ]
  },
  {
   "cell_type": "code",
   "execution_count": 9,
   "id": "aad0bbb3",
   "metadata": {},
   "outputs": [],
   "source": [
    "#y=mx+c"
   ]
  },
  {
   "cell_type": "code",
   "execution_count": 10,
   "id": "8eca3f09",
   "metadata": {},
   "outputs": [],
   "source": [
    "x=ds[['RowNumber', 'CustomerId', 'Surname','Gender', 'Age','NumOfProducts', 'HasCrCard',\n",
    "       'IsActiveMember', 'EstimatedSalary', 'Exited' ]].values"
   ]
  },
  {
   "cell_type": "code",
   "execution_count": 11,
   "id": "76fb2cbe",
   "metadata": {},
   "outputs": [
    {
     "data": {
      "text/plain": [
       "array([[1, 15634602.0, 'Hargrave', ..., 1, 101348.88, 1.0],\n",
       "       [2, 15647311.0, 'Hill', ..., 1, 112542.58, 0.0],\n",
       "       [3, 15619304.0, 'Onio', ..., 0, 113931.57, 1.0],\n",
       "       ...,\n",
       "       [9998, 15584532.0, 'Liu', ..., 1, 42085.58, 1.0],\n",
       "       [9999, 15682355.0, 'Sabbatini', ..., 0, 92888.52, 1.0],\n",
       "       [10000, 15628319.0, 'Walker', ..., 0, 38190.78, 0.0]], dtype=object)"
      ]
     },
     "execution_count": 11,
     "metadata": {},
     "output_type": "execute_result"
    }
   ],
   "source": [
    "x"
   ]
  },
  {
   "cell_type": "code",
   "execution_count": 12,
   "id": "28dbdb58",
   "metadata": {},
   "outputs": [],
   "source": [
    "y=ds[['CreditScore','Tenure', 'Balance' ]].values"
   ]
  },
  {
   "cell_type": "code",
   "execution_count": 13,
   "id": "e4a68779",
   "metadata": {},
   "outputs": [
    {
     "data": {
      "text/plain": [
       "array([[6.1900000e+02, 2.0000000e+00, 0.0000000e+00],\n",
       "       [6.0800000e+02, 1.0000000e+00, 8.3807860e+04],\n",
       "       [5.0200000e+02, 8.0000000e+00, 1.5966080e+05],\n",
       "       ...,\n",
       "       [7.0900000e+02, 7.0000000e+00, 0.0000000e+00],\n",
       "       [7.7200000e+02, 3.0000000e+00, 7.5075310e+04],\n",
       "       [7.9200000e+02, 4.0000000e+00, 1.3014279e+05]])"
      ]
     },
     "execution_count": 13,
     "metadata": {},
     "output_type": "execute_result"
    }
   ],
   "source": [
    "y"
   ]
  },
  {
   "cell_type": "code",
   "execution_count": 14,
   "id": "865342bc",
   "metadata": {},
   "outputs": [],
   "source": [
    "#missing value treatment\n",
    "from sklearn.impute import SimpleImputer\n",
    "imputer=SimpleImputer(missing_values=np.nan,strategy='median')\n",
    "\n",
    "x[:,0:1]=imputer.fit_transform(x[:,0:1])"
   ]
  },
  {
   "cell_type": "code",
   "execution_count": 15,
   "id": "c8698f3c",
   "metadata": {},
   "outputs": [
    {
     "data": {
      "text/plain": [
       "array([[1.0, 15634602.0, 'Hargrave', ..., 1, 101348.88, 1.0],\n",
       "       [2.0, 15647311.0, 'Hill', ..., 1, 112542.58, 0.0],\n",
       "       [3.0, 15619304.0, 'Onio', ..., 0, 113931.57, 1.0],\n",
       "       ...,\n",
       "       [9998.0, 15584532.0, 'Liu', ..., 1, 42085.58, 1.0],\n",
       "       [9999.0, 15682355.0, 'Sabbatini', ..., 0, 92888.52, 1.0],\n",
       "       [10000.0, 15628319.0, 'Walker', ..., 0, 38190.78, 0.0]],\n",
       "      dtype=object)"
      ]
     },
     "execution_count": 15,
     "metadata": {},
     "output_type": "execute_result"
    }
   ],
   "source": [
    "x"
   ]
  },
  {
   "cell_type": "code",
   "execution_count": 16,
   "id": "dfd92b25",
   "metadata": {},
   "outputs": [],
   "source": [
    "x[:,1:2]=imputer.fit_transform(x[:,1:2])"
   ]
  },
  {
   "cell_type": "code",
   "execution_count": 17,
   "id": "dc1de9a3",
   "metadata": {},
   "outputs": [],
   "source": [
    "y=imputer.fit_transform(y)\n",
    "y[:,1:2]=imputer.fit_transform(y[:,1:2])"
   ]
  },
  {
   "cell_type": "code",
   "execution_count": 18,
   "id": "a775f556",
   "metadata": {},
   "outputs": [
    {
     "data": {
      "text/plain": [
       "array([[6.1900000e+02, 2.0000000e+00, 0.0000000e+00],\n",
       "       [6.0800000e+02, 1.0000000e+00, 8.3807860e+04],\n",
       "       [5.0200000e+02, 8.0000000e+00, 1.5966080e+05],\n",
       "       ...,\n",
       "       [7.0900000e+02, 7.0000000e+00, 0.0000000e+00],\n",
       "       [7.7200000e+02, 3.0000000e+00, 7.5075310e+04],\n",
       "       [7.9200000e+02, 4.0000000e+00, 1.3014279e+05]])"
      ]
     },
     "execution_count": 18,
     "metadata": {},
     "output_type": "execute_result"
    }
   ],
   "source": [
    "y"
   ]
  },
  {
   "cell_type": "markdown",
   "id": "74128edf",
   "metadata": {},
   "source": [
    "# Apply Label Encoding "
   ]
  },
  {
   "cell_type": "code",
   "execution_count": 19,
   "id": "cbf3bf62",
   "metadata": {},
   "outputs": [],
   "source": [
    "from sklearn.preprocessing import LabelEncoder  \n",
    "label=LabelEncoder()\n",
    "x[:,5]=label.fit_transform(x[:,5])"
   ]
  },
  {
   "cell_type": "code",
   "execution_count": 20,
   "id": "15619cb0",
   "metadata": {},
   "outputs": [
    {
     "data": {
      "text/plain": [
       "array([[1.0, 15634602.0, 'Hargrave', ..., 1, 101348.88, 1.0],\n",
       "       [2.0, 15647311.0, 'Hill', ..., 1, 112542.58, 0.0],\n",
       "       [3.0, 15619304.0, 'Onio', ..., 0, 113931.57, 1.0],\n",
       "       ...,\n",
       "       [9998.0, 15584532.0, 'Liu', ..., 1, 42085.58, 1.0],\n",
       "       [9999.0, 15682355.0, 'Sabbatini', ..., 0, 92888.52, 1.0],\n",
       "       [10000.0, 15628319.0, 'Walker', ..., 0, 38190.78, 0.0]],\n",
       "      dtype=object)"
      ]
     },
     "execution_count": 20,
     "metadata": {},
     "output_type": "execute_result"
    }
   ],
   "source": [
    "x"
   ]
  },
  {
   "cell_type": "code",
   "execution_count": 21,
   "id": "d7cd030d",
   "metadata": {},
   "outputs": [],
   "source": [
    "from sklearn.preprocessing import LabelEncoder\n",
    "label=LabelEncoder()\n",
    "y[:,2]=label.fit_transform(y[:,2])\n"
   ]
  },
  {
   "cell_type": "code",
   "execution_count": 22,
   "id": "d93861ef",
   "metadata": {},
   "outputs": [
    {
     "data": {
      "text/plain": [
       "array([[6.190e+02, 2.000e+00, 0.000e+00],\n",
       "       [6.080e+02, 1.000e+00, 7.430e+02],\n",
       "       [5.020e+02, 8.000e+00, 5.793e+03],\n",
       "       ...,\n",
       "       [7.090e+02, 7.000e+00, 0.000e+00],\n",
       "       [7.720e+02, 3.000e+00, 4.270e+02],\n",
       "       [7.920e+02, 4.000e+00, 4.112e+03]])"
      ]
     },
     "execution_count": 22,
     "metadata": {},
     "output_type": "execute_result"
    }
   ],
   "source": [
    "y"
   ]
  },
  {
   "cell_type": "code",
   "execution_count": 23,
   "id": "8f49293e",
   "metadata": {},
   "outputs": [
    {
     "data": {
      "text/plain": [
       "(10000, 14)"
      ]
     },
     "execution_count": 23,
     "metadata": {},
     "output_type": "execute_result"
    }
   ],
   "source": [
    "ds.shape"
   ]
  },
  {
   "cell_type": "markdown",
   "id": "380bfd33",
   "metadata": {},
   "source": [
    "# Split data into Train and Test"
   ]
  },
  {
   "cell_type": "code",
   "execution_count": 24,
   "id": "e72ea587",
   "metadata": {},
   "outputs": [],
   "source": [
    "from sklearn.model_selection import train_test_split\n",
    "x_train,x_test,y_train,y_test=train_test_split(x,y,test_size=0.2)"
   ]
  },
  {
   "cell_type": "code",
   "execution_count": 25,
   "id": "dd24f687",
   "metadata": {},
   "outputs": [
    {
     "data": {
      "text/plain": [
       "(8000, 10)"
      ]
     },
     "execution_count": 25,
     "metadata": {},
     "output_type": "execute_result"
    }
   ],
   "source": [
    "x_train.shape"
   ]
  },
  {
   "cell_type": "code",
   "execution_count": 26,
   "id": "724c2a81",
   "metadata": {},
   "outputs": [
    {
     "data": {
      "text/plain": [
       "(8000, 3)"
      ]
     },
     "execution_count": 26,
     "metadata": {},
     "output_type": "execute_result"
    }
   ],
   "source": [
    "y_train.shape"
   ]
  },
  {
   "cell_type": "code",
   "execution_count": 27,
   "id": "dbecb8f2",
   "metadata": {},
   "outputs": [
    {
     "data": {
      "text/plain": [
       "(2000, 10)"
      ]
     },
     "execution_count": 27,
     "metadata": {},
     "output_type": "execute_result"
    }
   ],
   "source": [
    "x_test.shape"
   ]
  },
  {
   "cell_type": "code",
   "execution_count": 28,
   "id": "53985f7d",
   "metadata": {},
   "outputs": [
    {
     "data": {
      "text/plain": [
       "(2000, 3)"
      ]
     },
     "execution_count": 28,
     "metadata": {},
     "output_type": "execute_result"
    }
   ],
   "source": [
    "y_test.shape"
   ]
  },
  {
   "cell_type": "code",
   "execution_count": null,
   "id": "f24b2257",
   "metadata": {},
   "outputs": [],
   "source": []
  }
 ],
 "metadata": {
  "kernelspec": {
   "display_name": "Python 3 (ipykernel)",
   "language": "python",
   "name": "python3"
  },
  "language_info": {
   "codemirror_mode": {
    "name": "ipython",
    "version": 3
   },
   "file_extension": ".py",
   "mimetype": "text/x-python",
   "name": "python",
   "nbconvert_exporter": "python",
   "pygments_lexer": "ipython3",
   "version": "3.11.5"
  }
 },
 "nbformat": 4,
 "nbformat_minor": 5
}
